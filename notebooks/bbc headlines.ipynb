{
 "cells": [
  {
   "cell_type": "code",
   "execution_count": 1,
   "metadata": {},
   "outputs": [
    {
     "name": "stdout",
     "output_type": "stream",
     "text": [
      "['http://newsrss.bbc.co.uk/rss/newsonline_uk_edition/also_in_the_news/rss.xml', 'http://newsrss.bbc.co.uk/rss/newsonline_uk_edition/breaking_news/rss.xml', 'http://newsrss.bbc.co.uk/rss/newsonline_uk_edition/business/rss.xml', 'http://newsrss.bbc.co.uk/rss/newsonline_uk_edition/business/africa/rss.xml', 'http://newsrss.bbc.co.uk/rss/newsonline_uk_edition/business/americas/rss.xml', 'http://newsrss.bbc.co.uk/rss/newsonline_uk_edition/business/asia-pacific/rss.xml', 'http://newsrss.bbc.co.uk/rss/newsonline_uk_edition/business/companies/rss.xml', 'http://newsrss.bbc.co.uk/rss/newsonline_uk_edition/business/economy/rss.xml', 'http://newsrss.bbc.co.uk/rss/newsonline_uk_edition/business/europe/rss.xml', 'http://newsrss.bbc.co.uk/rss/newsonline_uk_edition/business/market_data/frankfurt/rss.xml', 'http://newsrss.bbc.co.uk/rss/newsonline_uk_edition/business/market_data/london/rss.xml', 'http://newsrss.bbc.co.uk/rss/newsonline_uk_edition/business/market_data/new_york/rss.xml', 'http://newsrss.bbc.co.uk/rss/newsonline_uk_edition/business/market_data/paris/rss.xml', 'http://newsrss.bbc.co.uk/rss/newsonline_uk_edition/business/market_data/tokyo/rss.xml', 'http://newsrss.bbc.co.uk/rss/newsonline_uk_edition/business/middle_east/rss.xml', 'http://newsrss.bbc.co.uk/rss/newsonline_uk_edition/business/south_asia/rss.xml', 'http://newsrss.bbc.co.uk/rss/newsonline_uk_edition/business/your_money/rss.xml', 'http://newsrss.bbc.co.uk/rss/newsonline_uk_edition/education/rss.xml', 'http://newsrss.bbc.co.uk/rss/newsonline_uk_edition/education/league_tables/rss.xml', 'http://newsrss.bbc.co.uk/rss/newsonline_uk_edition/england/rss.xml', 'http://newsrss.bbc.co.uk/rss/newsonline_uk_edition/england/beds/bucks/herts/rss.xml', 'http://newsrss.bbc.co.uk/rss/newsonline_uk_edition/england/berkshire/rss.xml', 'http://newsrss.bbc.co.uk/rss/newsonline_uk_edition/england/bradford/rss.xml', 'http://newsrss.bbc.co.uk/rss/newsonline_uk_edition/england/bristol/rss.xml', 'http://newsrss.bbc.co.uk/rss/newsonline_uk_edition/england/cambridgeshire/rss.xml', 'http://newsrss.bbc.co.uk/rss/newsonline_uk_edition/england/cornwall/rss.xml', 'http://newsrss.bbc.co.uk/rss/newsonline_uk_edition/england/coventry_warwickshire/rss.xml', 'http://newsrss.bbc.co.uk/rss/newsonline_uk_edition/england/cumbria/rss.xml', 'http://newsrss.bbc.co.uk/rss/newsonline_uk_edition/england/derbyshire/rss.xml', 'http://newsrss.bbc.co.uk/rss/newsonline_uk_edition/england/devon/rss.xml', 'http://newsrss.bbc.co.uk/rss/newsonline_uk_edition/england/dorset/rss.xml', 'http://newsrss.bbc.co.uk/rss/newsonline_uk_edition/england/essex/rss.xml', 'http://newsrss.bbc.co.uk/rss/newsonline_uk_edition/england/gloucestershire/rss.xml', 'http://newsrss.bbc.co.uk/rss/newsonline_uk_edition/england/hampshire/rss.xml', 'http://newsrss.bbc.co.uk/rss/newsonline_uk_edition/england/hereford/worcs/rss.xml', 'http://newsrss.bbc.co.uk/rss/newsonline_uk_edition/england/humber/rss.xml', 'http://newsrss.bbc.co.uk/rss/newsonline_uk_edition/england/kent/rss.xml', 'http://newsrss.bbc.co.uk/rss/newsonline_uk_edition/england/lancashire/rss.xml', 'http://newsrss.bbc.co.uk/rss/newsonline_uk_edition/england/leicestershire/rss.xml', 'http://newsrss.bbc.co.uk/rss/newsonline_uk_edition/england/lincolnshire/rss.xml', 'http://newsrss.bbc.co.uk/rss/newsonline_uk_edition/england/london/rss.xml', 'http://newsrss.bbc.co.uk/rss/newsonline_uk_edition/england/manchester/rss.xml', 'http://newsrss.bbc.co.uk/rss/newsonline_uk_edition/england/merseyside/rss.xml', 'http://newsrss.bbc.co.uk/rss/newsonline_uk_edition/england/norfolk/rss.xml', 'http://newsrss.bbc.co.uk/rss/newsonline_uk_edition/england/northamptonshire/rss.xml', 'http://newsrss.bbc.co.uk/rss/newsonline_uk_edition/england/north_yorkshire/rss.xml', 'http://newsrss.bbc.co.uk/rss/newsonline_uk_edition/england/nottinghamshire/rss.xml', 'http://newsrss.bbc.co.uk/rss/newsonline_uk_edition/england/oxfordshire/rss.xml', 'http://newsrss.bbc.co.uk/rss/newsonline_uk_edition/england/shropshire/rss.xml', 'http://newsrss.bbc.co.uk/rss/newsonline_uk_edition/england/somerset/rss.xml', 'http://newsrss.bbc.co.uk/rss/newsonline_uk_edition/england/southern_counties/rss.xml', 'http://newsrss.bbc.co.uk/rss/newsonline_uk_edition/england/south_yorkshire/rss.xml', 'http://newsrss.bbc.co.uk/rss/newsonline_uk_edition/england/staffordshire/rss.xml', 'http://newsrss.bbc.co.uk/rss/newsonline_uk_edition/england/suffolk/rss.xml', 'http://newsrss.bbc.co.uk/rss/newsonline_uk_edition/england/surrey/rss.xml', 'http://newsrss.bbc.co.uk/rss/newsonline_uk_edition/england/sussex/rss.xml', 'http://newsrss.bbc.co.uk/rss/newsonline_uk_edition/england/tees/rss.xml', 'http://newsrss.bbc.co.uk/rss/newsonline_uk_edition/england/travel/rss.xml', 'http://newsrss.bbc.co.uk/rss/newsonline_uk_edition/england/tyne/rss.xml', 'http://newsrss.bbc.co.uk/rss/newsonline_uk_edition/england/wear/rss.xml', 'http://newsrss.bbc.co.uk/rss/newsonline_uk_edition/england/west_midlands/rss.xml', 'http://newsrss.bbc.co.uk/rss/newsonline_uk_edition/england/west_midlands/black_country/rss.xml', 'http://newsrss.bbc.co.uk/rss/newsonline_uk_edition/england/west_yorkshire/rss.xml', 'http://newsrss.bbc.co.uk/rss/newsonline_uk_edition/england/wiltshire/rss.xml', 'http://newsrss.bbc.co.uk/rss/newsonline_uk_edition/enhancedmobile/business/rss.xml', 'http://newsrss.bbc.co.uk/rss/newsonline_uk_edition/enhancedmobile/education/rss.xml', 'http://newsrss.bbc.co.uk/rss/newsonline_uk_edition/enhancedmobile/england/rss.xml', 'http://newsrss.bbc.co.uk/rss/newsonline_uk_edition/enhancedmobile/entertainment/rss.xml', 'http://newsrss.bbc.co.uk/rss/newsonline_uk_edition/enhancedmobile/front_page/rss.xml', 'http://newsrss.bbc.co.uk/rss/newsonline_uk_edition/enhancedmobile/health/rss.xml', 'http://newsrss.bbc.co.uk/rss/newsonline_uk_edition/enhancedmobile/magazine/rss.xml', 'http://newsrss.bbc.co.uk/rss/newsonline_uk_edition/enhancedmobile/mobile_services/rss.xml', 'http://newsrss.bbc.co.uk/rss/newsonline_uk_edition/enhancedmobile/northern_ireland/rss.xml', 'http://newsrss.bbc.co.uk/rss/newsonline_uk_edition/enhancedmobile/programmes/click/rss.xml', 'http://newsrss.bbc.co.uk/rss/newsonline_uk_edition/enhancedmobile/sci/tech/rss.xml', 'http://newsrss.bbc.co.uk/rss/newsonline_uk_edition/enhancedmobile/scotland/rss.xml', 'http://newsrss.bbc.co.uk/rss/newsonline_uk_edition/enhancedmobile/technology/rss.xml', 'http://newsrss.bbc.co.uk/rss/newsonline_uk_edition/enhancedmobile/uk/rss.xml', 'http://newsrss.bbc.co.uk/rss/newsonline_uk_edition/enhancedmobile/uk_politics/rss.xml', 'http://newsrss.bbc.co.uk/rss/newsonline_uk_edition/enhancedmobile/wales/rss.xml', 'http://newsrss.bbc.co.uk/rss/newsonline_uk_edition/enhancedmobile/world/rss.xml', 'http://newsrss.bbc.co.uk/rss/newsonline_uk_edition/enhancedmobile/world/africa/rss.xml', 'http://newsrss.bbc.co.uk/rss/newsonline_uk_edition/enhancedmobile/world/americas/rss.xml', 'http://newsrss.bbc.co.uk/rss/newsonline_uk_edition/enhancedmobile/world/asia-pacific/rss.xml', 'http://newsrss.bbc.co.uk/rss/newsonline_uk_edition/enhancedmobile/world/europe/rss.xml', 'http://newsrss.bbc.co.uk/rss/newsonline_uk_edition/enhancedmobile/world/middle_east/rss.xml', 'http://newsrss.bbc.co.uk/rss/newsonline_uk_edition/enhancedmobile/world/south_asia/rss.xml', 'http://newsrss.bbc.co.uk/rss/newsonline_uk_edition/entertainment/rss.xml', 'http://newsrss.bbc.co.uk/rss/newsonline_uk_edition/entertainment/arts_and_culture/rss.xml', 'http://newsrss.bbc.co.uk/rss/newsonline_uk_edition/entertainment/music/rss.xml', 'http://newsrss.bbc.co.uk/rss/newsonline_uk_edition/front_page/rss.xml', 'http://newsrss.bbc.co.uk/rss/newsonline_uk_edition/front_page/features/rss.xml', 'http://newsrss.bbc.co.uk/rss/newsonline_uk_edition/front_page/wide_front_page_features/rss.xml', 'http://newsrss.bbc.co.uk/rss/newsonline_uk_edition/health/rss.xml', 'http://newsrss.bbc.co.uk/rss/newsonline_uk_edition/health/medical_notes/rss.xml', 'http://newsrss.bbc.co.uk/rss/newsonline_uk_edition/help/rss.xml', 'http://newsrss.bbc.co.uk/rss/newsonline_uk_edition/help/products_and_services/rss.xml', 'http://newsrss.bbc.co.uk/rss/newsonline_uk_edition/in_depth/rss.xml', 'http://newsrss.bbc.co.uk/rss/newsonline_uk_edition/in_depth/africa/2004/somalia/rss.xml', 'http://newsrss.bbc.co.uk/rss/newsonline_uk_edition/in_depth/africa/2008/zimbabwe/rss.xml', 'http://newsrss.bbc.co.uk/rss/newsonline_uk_edition/in_depth/africa/2009/south_africa/rss.xml', 'http://newsrss.bbc.co.uk/rss/newsonline_uk_edition/in_depth/americas/2006/venezuela/rss.xml', 'http://newsrss.bbc.co.uk/rss/newsonline_uk_edition/in_depth/americas/2008/obama_presidency/rss.xml', 'http://newsrss.bbc.co.uk/rss/newsonline_uk_edition/in_depth/americas/2008/vote_usa_2008/rss.xml', 'http://newsrss.bbc.co.uk/rss/newsonline_uk_edition/in_depth/archive/2008/rss.xml', 'http://newsrss.bbc.co.uk/rss/newsonline_uk_edition/in_depth/asia_pacific/2004/china/rss.xml', 'http://newsrss.bbc.co.uk/rss/newsonline_uk_edition/in_depth/asia_pacific/2006/north_korea/rss.xml', 'http://newsrss.bbc.co.uk/rss/newsonline_uk_edition/in_depth/asia_pacific/2007/burma/rss.xml', 'http://newsrss.bbc.co.uk/rss/newsonline_uk_edition/in_depth/asia_pacific/2008/burma_cyclone/rss.xml', 'http://newsrss.bbc.co.uk/rss/newsonline_uk_edition/in_depth/asia_pacific/2008/china_quake/rss.xml', 'http://newsrss.bbc.co.uk/rss/newsonline_uk_edition/in_depth/asia_pacific/2009/australia_fires/rss.xml', 'http://newsrss.bbc.co.uk/rss/newsonline_uk_edition/in_depth/business/2002/pensions_crisis/rss.xml', 'http://newsrss.bbc.co.uk/rss/newsonline_uk_edition/in_depth/business/2003/small_business/rss.xml', 'http://newsrss.bbc.co.uk/rss/newsonline_uk_edition/in_depth/business/2007/creditcrunch/rss.xml', 'http://newsrss.bbc.co.uk/rss/newsonline_uk_edition/in_depth/business/2008/downturn/rss.xml', 'http://newsrss.bbc.co.uk/rss/newsonline_uk_edition/in_depth/business/2008/downturn/east/rss.xml', 'http://newsrss.bbc.co.uk/rss/newsonline_uk_edition/in_depth/business/2008/downturn/east_midlands/rss.xml', 'http://newsrss.bbc.co.uk/rss/newsonline_uk_edition/in_depth/business/2008/downturn/london/rss.xml', 'http://newsrss.bbc.co.uk/rss/newsonline_uk_edition/in_depth/business/2008/downturn/northern_ireland/rss.xml', 'http://newsrss.bbc.co.uk/rss/newsonline_uk_edition/in_depth/business/2008/downturn/north_east_and_cumbria/rss.xml', 'http://newsrss.bbc.co.uk/rss/newsonline_uk_edition/in_depth/business/2008/downturn/north_west/rss.xml', 'http://newsrss.bbc.co.uk/rss/newsonline_uk_edition/in_depth/business/2008/downturn/scotland/rss.xml', 'http://newsrss.bbc.co.uk/rss/newsonline_uk_edition/in_depth/business/2008/downturn/south/rss.xml', 'http://newsrss.bbc.co.uk/rss/newsonline_uk_edition/in_depth/business/2008/downturn/south_east/rss.xml', 'http://newsrss.bbc.co.uk/rss/newsonline_uk_edition/in_depth/business/2008/downturn/south_west/rss.xml', 'http://newsrss.bbc.co.uk/rss/newsonline_uk_edition/in_depth/business/2008/downturn/wales/rss.xml', 'http://newsrss.bbc.co.uk/rss/newsonline_uk_edition/in_depth/business/2008/downturn/west/rss.xml', 'http://newsrss.bbc.co.uk/rss/newsonline_uk_edition/in_depth/business/2008/downturn/west_midlands/rss.xml', 'http://newsrss.bbc.co.uk/rss/newsonline_uk_edition/in_depth/business/2008/downturn/yorks_lincs/rss.xml', 'http://newsrss.bbc.co.uk/rss/newsonline_uk_edition/in_depth/business/2008/inflation/rss.xml', 'http://newsrss.bbc.co.uk/rss/newsonline_uk_edition/in_depth/business/2008/pre_budget_report/rss.xml', 'http://newsrss.bbc.co.uk/rss/newsonline_uk_edition/in_depth/business/2008/the_box/rss.xml', 'http://newsrss.bbc.co.uk/rss/newsonline_uk_edition/in_depth/business/2009/budget_2009/rss.xml', 'http://newsrss.bbc.co.uk/rss/newsonline_uk_edition/in_depth/business/2009/davos/rss.xml', 'http://newsrss.bbc.co.uk/rss/newsonline_uk_edition/in_depth/business/2009/g20/rss.xml', 'http://newsrss.bbc.co.uk/rss/newsonline_uk_edition/in_depth/business/2009/penny_drops/rss.xml', 'http://newsrss.bbc.co.uk/rss/newsonline_uk_edition/in_depth/business/mortgages/rss.xml', 'http://newsrss.bbc.co.uk/rss/newsonline_uk_edition/in_depth/business/savings_investments/rss.xml', 'http://newsrss.bbc.co.uk/rss/newsonline_uk_edition/in_depth/entertainment/2009/cannes_2009/rss.xml', 'http://newsrss.bbc.co.uk/rss/newsonline_uk_edition/in_depth/entertainment/2009/oscars_2009/rss.xml', 'http://newsrss.bbc.co.uk/rss/newsonline_uk_edition/in_depth/entertainment/2009/sound_of_2009/rss.xml', 'http://newsrss.bbc.co.uk/rss/newsonline_uk_edition/in_depth/europe/2003/inside_europe/rss.xml', 'http://newsrss.bbc.co.uk/rss/newsonline_uk_edition/in_depth/europe/2007/resurgent_russia/rss.xml', 'http://newsrss.bbc.co.uk/rss/newsonline_uk_edition/in_depth/europe/2008/georgia_russia_conflict/rss.xml', 'http://newsrss.bbc.co.uk/rss/newsonline_uk_edition/in_depth/europe/2009/1989_europes_revolution/rss.xml', 'http://newsrss.bbc.co.uk/rss/newsonline_uk_edition/in_depth/europe/2009/election_09/rss.xml', 'http://newsrss.bbc.co.uk/rss/newsonline_uk_edition/in_depth/health/2009/scrubbing_up/rss.xml', 'http://newsrss.bbc.co.uk/rss/newsonline_uk_edition/in_depth/middle_east/2001/israel_and_the_palestinians/rss.xml', 'http://newsrss.bbc.co.uk/rss/newsonline_uk_edition/in_depth/middle_east/2002/conflict_with_iraq/rss.xml', 'http://newsrss.bbc.co.uk/rss/newsonline_uk_edition/in_depth/middle_east/2004/iran/rss.xml', 'http://newsrss.bbc.co.uk/rss/newsonline_uk_edition/in_depth/middle_east/jerusalemdiary/rss.xml', 'http://newsrss.bbc.co.uk/rss/newsonline_uk_edition/in_depth/sci_tech/2008/alieninvaders/rss.xml', 'http://newsrss.bbc.co.uk/rss/newsonline_uk_edition/in_depth/sci_tech/2008/e3/rss.xml', 'http://newsrss.bbc.co.uk/rss/newsonline_uk_edition/in_depth/sci_tech/green_room/rss.xml', 'http://newsrss.bbc.co.uk/rss/newsonline_uk_edition/in_depth/scotland/2008/snp_conference/rss.xml', 'http://newsrss.bbc.co.uk/rss/newsonline_uk_edition/in_depth/south_asia/2002/kashmir_flashpoint/rss.xml', 'http://newsrss.bbc.co.uk/rss/newsonline_uk_edition/in_depth/south_asia/2004/afghanistan/rss.xml', 'http://newsrss.bbc.co.uk/rss/newsonline_uk_edition/in_depth/south_asia/2004/india_votes_2004/rss.xml', 'http://newsrss.bbc.co.uk/rss/newsonline_uk_edition/in_depth/south_asia/2005/india_week/rss.xml', 'http://newsrss.bbc.co.uk/rss/newsonline_uk_edition/in_depth/south_asia/2005/south_asia_quake/rss.xml', 'http://newsrss.bbc.co.uk/rss/newsonline_uk_edition/in_depth/south_asia/2007/pakistan/rss.xml', 'http://newsrss.bbc.co.uk/rss/newsonline_uk_edition/in_depth/south_asia/2008/mumbai_attacks/rss.xml', 'http://newsrss.bbc.co.uk/rss/newsonline_uk_edition/in_depth/south_asia/2009/indian_election/rss.xml', 'http://newsrss.bbc.co.uk/rss/newsonline_uk_edition/in_depth/south_asia/2009/indian_election_2009/rss.xml', 'http://newsrss.bbc.co.uk/rss/newsonline_uk_edition/in_depth/south_asia/2009/india_election/rss.xml', 'http://newsrss.bbc.co.uk/rss/newsonline_uk_edition/in_depth/south_asia/2009/india_election/if_i_were_prime_minister/rss.xml', 'http://newsrss.bbc.co.uk/rss/newsonline_uk_edition/in_depth/uk/2006/foi/rss.xml', 'http://newsrss.bbc.co.uk/rss/newsonline_uk_edition/in_depth/uk/2009/cityscapes/rss.xml', 'http://newsrss.bbc.co.uk/rss/newsonline_uk_edition/in_depth/uk/2009/did_it_work/rss.xml', 'http://newsrss.bbc.co.uk/rss/newsonline_uk_edition/in_depth/uk/2009/religion/rss.xml', 'http://newsrss.bbc.co.uk/rss/newsonline_uk_edition/in_depth/uk_politics/2000/conferences/rss.xml', 'http://newsrss.bbc.co.uk/rss/newsonline_uk_edition/in_depth/uk_politics/2008/party_conferences_2008/rss.xml', 'http://newsrss.bbc.co.uk/rss/newsonline_uk_edition/in_depth/world/2008/costoffood/rss.xml', 'http://newsrss.bbc.co.uk/rss/newsonline_uk_edition/in_depth/world/2009/global_marketplaces/rss.xml', 'http://newsrss.bbc.co.uk/rss/newsonline_uk_edition/in_depth/world/2009/swine_flu/rss.xml', 'http://newsrss.bbc.co.uk/rss/newsonline_uk_edition/in_pictures/rss.xml', 'http://newsrss.bbc.co.uk/rss/newsonline_uk_edition/latest_published_stories/rss.xml', 'http://newsrss.bbc.co.uk/rss/newsonline_uk_edition/livestats/most_emailed/rss.xml', 'http://newsrss.bbc.co.uk/rss/newsonline_uk_edition/livestats/most_read/rss.xml', 'http://newsrss.bbc.co.uk/rss/newsonline_uk_edition/magazine/rss.xml', 'http://newsrss.bbc.co.uk/rss/newsonline_uk_edition/magazine/views/a_point_of_view/rss.xml', 'http://newsrss.bbc.co.uk/rss/newsonline_uk_edition/northern_ireland/rss.xml', 'http://newsrss.bbc.co.uk/rss/newsonline_uk_edition/northern_ireland/foyle_and_west/rss.xml', 'http://newsrss.bbc.co.uk/rss/newsonline_uk_edition/northern_ireland/northern_ireland_politics/rss.xml', 'http://newsrss.bbc.co.uk/rss/newsonline_uk_edition/not_in_website/syndication/monitoring/media_reports/rss.xml', 'http://newsrss.bbc.co.uk/rss/newsonline_uk_edition/programmes/analysis/rss.xml', 'http://newsrss.bbc.co.uk/rss/newsonline_uk_edition/programmes/andrew_marr_show/rss.xml', 'http://newsrss.bbc.co.uk/rss/newsonline_uk_edition/programmes/andrew_marr_show/previous_guests/rss.xml', 'http://newsrss.bbc.co.uk/rss/newsonline_uk_edition/programmes/andrew_marr_show/video_highlights/rss.xml', 'http://newsrss.bbc.co.uk/rss/newsonline_uk_edition/programmes/battle_for_islam/rss.xml', 'http://newsrss.bbc.co.uk/rss/newsonline_uk_edition/programmes/bbc_parliament/rss.xml', 'http://newsrss.bbc.co.uk/rss/newsonline_uk_edition/programmes/breakfast/rss.xml', 'http://newsrss.bbc.co.uk/rss/newsonline_uk_edition/programmes/click_online/rss.xml', 'http://newsrss.bbc.co.uk/rss/newsonline_uk_edition/programmes/click_online/about_the_programme/rss.xml', 'http://newsrss.bbc.co.uk/rss/newsonline_uk_edition/programmes/click_online/archive/rss.xml', 'http://newsrss.bbc.co.uk/rss/newsonline_uk_edition/programmes/click_online/archive/2006/rss.xml', 'http://newsrss.bbc.co.uk/rss/newsonline_uk_edition/programmes/click_online/archive/2007/rss.xml', 'http://newsrss.bbc.co.uk/rss/newsonline_uk_edition/programmes/click_online/archive/2009/rss.xml', 'http://newsrss.bbc.co.uk/rss/newsonline_uk_edition/programmes/click_online/buyers_guides/rss.xml', 'http://newsrss.bbc.co.uk/rss/newsonline_uk_edition/programmes/click_online/click_tips/rss.xml', 'http://newsrss.bbc.co.uk/rss/newsonline_uk_edition/programmes/click_online/inbox/rss.xml', 'http://newsrss.bbc.co.uk/rss/newsonline_uk_edition/programmes/crossing_continents/rss.xml', 'http://newsrss.bbc.co.uk/rss/newsonline_uk_edition/programmes/file_on_4/rss.xml', 'http://newsrss.bbc.co.uk/rss/newsonline_uk_edition/programmes/from_our_own_correspondent/rss.xml', 'http://newsrss.bbc.co.uk/rss/newsonline_uk_edition/programmes/hardtalk/rss.xml', 'http://newsrss.bbc.co.uk/rss/newsonline_uk_edition/programmes/law_in_action/rss.xml', 'http://newsrss.bbc.co.uk/rss/newsonline_uk_edition/programmes/moneybox/rss.xml', 'http://newsrss.bbc.co.uk/rss/newsonline_uk_edition/programmes/more_or_less/rss.xml', 'http://newsrss.bbc.co.uk/rss/newsonline_uk_edition/programmes/newsnight/rss.xml', 'http://newsrss.bbc.co.uk/rss/newsonline_uk_edition/programmes/newsnight/afghanistan/rss.xml', 'http://newsrss.bbc.co.uk/rss/newsonline_uk_edition/programmes/newsnight/credit_crunch/rss.xml', 'http://newsrss.bbc.co.uk/rss/newsonline_uk_edition/programmes/newsnight/iraq/rss.xml', 'http://newsrss.bbc.co.uk/rss/newsonline_uk_edition/programmes/newsnight/review/rss.xml', 'http://newsrss.bbc.co.uk/rss/newsonline_uk_edition/programmes/newsnight/video/rss.xml', 'http://newsrss.bbc.co.uk/rss/newsonline_uk_edition/programmes/politics_show/rss.xml', 'http://newsrss.bbc.co.uk/rss/newsonline_uk_edition/programmes/politics_show/archive/rss.xml', 'http://newsrss.bbc.co.uk/rss/newsonline_uk_edition/programmes/politics_show/interviews/rss.xml', 'http://newsrss.bbc.co.uk/rss/newsonline_uk_edition/programmes/politics_show/regions/east/rss.xml', 'http://newsrss.bbc.co.uk/rss/newsonline_uk_edition/programmes/politics_show/regions/east_midlands/rss.xml', 'http://newsrss.bbc.co.uk/rss/newsonline_uk_edition/programmes/politics_show/regions/london/rss.xml', 'http://newsrss.bbc.co.uk/rss/newsonline_uk_edition/programmes/politics_show/regions/northern_ireland/rss.xml', 'http://newsrss.bbc.co.uk/rss/newsonline_uk_edition/programmes/politics_show/regions/north_east_and_cumbria/rss.xml', 'http://newsrss.bbc.co.uk/rss/newsonline_uk_edition/programmes/politics_show/regions/north_west/rss.xml', 'http://newsrss.bbc.co.uk/rss/newsonline_uk_edition/programmes/politics_show/regions/scotland/rss.xml', 'http://newsrss.bbc.co.uk/rss/newsonline_uk_edition/programmes/politics_show/regions/south/rss.xml', 'http://newsrss.bbc.co.uk/rss/newsonline_uk_edition/programmes/politics_show/regions/south_east/rss.xml', 'http://newsrss.bbc.co.uk/rss/newsonline_uk_edition/programmes/politics_show/regions/south_west/rss.xml', 'http://newsrss.bbc.co.uk/rss/newsonline_uk_edition/programmes/politics_show/regions/wales/rss.xml', 'http://newsrss.bbc.co.uk/rss/newsonline_uk_edition/programmes/politics_show/regions/west/rss.xml', 'http://newsrss.bbc.co.uk/rss/newsonline_uk_edition/programmes/politics_show/regions/west_midlands/rss.xml', 'http://newsrss.bbc.co.uk/rss/newsonline_uk_edition/programmes/politics_show/regions/yorkshire_and_lincolnshire/rss.xml', 'http://newsrss.bbc.co.uk/rss/newsonline_uk_edition/programmes/question_time/rss.xml', 'http://newsrss.bbc.co.uk/rss/newsonline_uk_edition/programmes/question_time/schools_question_time/rss.xml', 'http://newsrss.bbc.co.uk/rss/newsonline_uk_edition/programmes/question_time/your_say/rss.xml', 'http://newsrss.bbc.co.uk/rss/newsonline_uk_edition/programmes/the_daily_politics/rss.xml', 'http://newsrss.bbc.co.uk/rss/newsonline_uk_edition/programmes/the_westminster_hour/rss.xml', 'http://newsrss.bbc.co.uk/rss/newsonline_uk_edition/programmes/this_week/rss.xml', 'http://newsrss.bbc.co.uk/rss/newsonline_uk_edition/programmes/this_week/guest_gallery/rss.xml', 'http://newsrss.bbc.co.uk/rss/newsonline_uk_edition/programmes/this_world/rss.xml', 'http://newsrss.bbc.co.uk/rss/newsonline_uk_edition/programmes/this_world/archive/2004/rss.xml', 'http://newsrss.bbc.co.uk/rss/newsonline_uk_edition/programmes/this_world/archive/2005/rss.xml', 'http://newsrss.bbc.co.uk/rss/newsonline_uk_edition/programmes/this_world/archive/2006/rss.xml', 'http://newsrss.bbc.co.uk/rss/newsonline_uk_edition/programmes/this_world/archive/2007/rss.xml', 'http://newsrss.bbc.co.uk/rss/newsonline_uk_edition/programmes/this_world/archive/2008/rss.xml', 'http://newsrss.bbc.co.uk/rss/newsonline_uk_edition/programmes/this_world/archive/2009/rss.xml', 'http://newsrss.bbc.co.uk/rss/newsonline_uk_edition/programmes/this_world/archive/africa/rss.xml', 'http://newsrss.bbc.co.uk/rss/newsonline_uk_edition/programmes/this_world/archive/americas/rss.xml', 'http://newsrss.bbc.co.uk/rss/newsonline_uk_edition/programmes/this_world/archive/asia_pacific/rss.xml', 'http://newsrss.bbc.co.uk/rss/newsonline_uk_edition/programmes/this_world/archive/europe/rss.xml', 'http://newsrss.bbc.co.uk/rss/newsonline_uk_edition/programmes/this_world/archive/middle_east/rss.xml', 'http://newsrss.bbc.co.uk/rss/newsonline_uk_edition/programmes/this_world/archive/south_asia/rss.xml', 'http://newsrss.bbc.co.uk/rss/newsonline_uk_edition/programmes/working_lunch/rss.xml', 'http://newsrss.bbc.co.uk/rss/newsonline_uk_edition/programmes/world_news_america/rss.xml', 'http://newsrss.bbc.co.uk/rss/newsonline_uk_edition/school_report/rss.xml', 'http://newsrss.bbc.co.uk/rss/newsonline_uk_edition/school_report/news_day_2009/rss.xml', 'http://newsrss.bbc.co.uk/rss/newsonline_uk_edition/school_report/project_news/rss.xml', 'http://newsrss.bbc.co.uk/rss/newsonline_uk_edition/school_report/resources_for_teachers/rss.xml', 'http://newsrss.bbc.co.uk/rss/newsonline_uk_edition/school_report/student_reports/rss.xml', 'http://newsrss.bbc.co.uk/rss/newsonline_uk_edition/sci/tech/rss.xml', 'http://newsrss.bbc.co.uk/rss/newsonline_uk_edition/scotland/rss.xml', 'http://newsrss.bbc.co.uk/rss/newsonline_uk_edition/scotland/edinburgh_and_east/rss.xml', 'http://newsrss.bbc.co.uk/rss/newsonline_uk_edition/scotland/glasgow_and_west/rss.xml', 'http://newsrss.bbc.co.uk/rss/newsonline_uk_edition/scotland/highlands_and_islands/rss.xml', 'http://newsrss.bbc.co.uk/rss/newsonline_uk_edition/scotland/north_east/rss.xml', 'http://newsrss.bbc.co.uk/rss/newsonline_uk_edition/scotland/scotland_newspapers/rss.xml', 'http://newsrss.bbc.co.uk/rss/newsonline_uk_edition/scotland/scotland_politics/rss.xml', 'http://newsrss.bbc.co.uk/rss/newsonline_uk_edition/scotland/scotland_video_and_audio/rss.xml', 'http://newsrss.bbc.co.uk/rss/newsonline_uk_edition/scotland/south_of_scotland/rss.xml', 'http://newsrss.bbc.co.uk/rss/newsonline_uk_edition/scotland/tayside_and_central/rss.xml', 'http://newsrss.bbc.co.uk/rss/newsonline_uk_edition/staging_site/programmes/master_programme/rss.xml', 'http://newsrss.bbc.co.uk/rss/newsonline_uk_edition/syndication/background/rss.xml', 'http://newsrss.bbc.co.uk/rss/newsonline_uk_edition/syndication/best_of_bbc/rss.xml', 'http://newsrss.bbc.co.uk/rss/newsonline_uk_edition/talking_point/rss.xml', 'http://newsrss.bbc.co.uk/rss/newsonline_uk_edition/talking_point/africa_have_your_say/rss.xml', 'http://newsrss.bbc.co.uk/rss/newsonline_uk_edition/talking_point/g20_video/rss.xml', 'http://newsrss.bbc.co.uk/rss/newsonline_uk_edition/technology/rss.xml', 'http://newsrss.bbc.co.uk/rss/newsonline_uk_edition/uk/rss.xml', 'http://newsrss.bbc.co.uk/rss/newsonline_uk_edition/uk/uk_newspapers/rss.xml', 'http://newsrss.bbc.co.uk/rss/newsonline_uk_edition/uk_politics/rss.xml', 'http://newsrss.bbc.co.uk/rss/newsonline_uk_edition/uk_politics/northern_ireland/rss.xml', 'http://newsrss.bbc.co.uk/rss/newsonline_uk_edition/uk_politics/tory_spring_conference_2009/rss.xml', 'http://newsrss.bbc.co.uk/rss/newsonline_uk_edition/wales/rss.xml', 'http://newsrss.bbc.co.uk/rss/newsonline_uk_edition/wales/childhood/rss.xml', 'http://newsrss.bbc.co.uk/rss/newsonline_uk_edition/wales/mid/rss.xml', 'http://newsrss.bbc.co.uk/rss/newsonline_uk_edition/wales/north_east/rss.xml', 'http://newsrss.bbc.co.uk/rss/newsonline_uk_edition/wales/north_west/rss.xml', 'http://newsrss.bbc.co.uk/rss/newsonline_uk_edition/wales/south_east/rss.xml', 'http://newsrss.bbc.co.uk/rss/newsonline_uk_edition/wales/south_west/rss.xml', 'http://newsrss.bbc.co.uk/rss/newsonline_uk_edition/wales/wales_politics/rss.xml', 'http://newsrss.bbc.co.uk/rss/newsonline_uk_edition/world/rss.xml', 'http://newsrss.bbc.co.uk/rss/newsonline_uk_edition/world/africa/rss.xml', 'http://newsrss.bbc.co.uk/rss/newsonline_uk_edition/world/africa/country_profiles/rss.xml', 'http://newsrss.bbc.co.uk/rss/newsonline_uk_edition/world/americas/rss.xml', 'http://newsrss.bbc.co.uk/rss/newsonline_uk_edition/world/americas/country_profiles/rss.xml', 'http://newsrss.bbc.co.uk/rss/newsonline_uk_edition/world/asia-pacific/rss.xml', 'http://newsrss.bbc.co.uk/rss/newsonline_uk_edition/world/asia-pacific/country_profiles/rss.xml', 'http://newsrss.bbc.co.uk/rss/newsonline_uk_edition/world/europe/rss.xml', 'http://newsrss.bbc.co.uk/rss/newsonline_uk_edition/world/europe/country_profiles/rss.xml', 'http://newsrss.bbc.co.uk/rss/newsonline_uk_edition/world/europe/guernsey/rss.xml', 'http://newsrss.bbc.co.uk/rss/newsonline_uk_edition/world/europe/isle_of_man/rss.xml', 'http://newsrss.bbc.co.uk/rss/newsonline_uk_edition/world/europe/jersey/rss.xml', 'http://newsrss.bbc.co.uk/rss/newsonline_uk_edition/world/middle_east/rss.xml', 'http://newsrss.bbc.co.uk/rss/newsonline_uk_edition/world/middle_east/country_profiles/rss.xml', 'http://newsrss.bbc.co.uk/rss/newsonline_uk_edition/world/south_asia/rss.xml', 'http://newsrss.bbc.co.uk/rss/newsonline_uk_edition/world/south_asia/country_profiles/rss.xml']\n"
     ]
    }
   ],
   "source": [
    "import requests\n",
    "import xml.etree.ElementTree as ET\n",
    "\n",
    "# URL to the live OPML feed\n",
    "opml_url = \"http://news.bbc.co.uk/rss/newsonline_uk_edition/feeds.opml\"\n",
    "\n",
    "# Fetch the OPML file from the URL\n",
    "response = requests.get(opml_url)\n",
    "\n",
    "# Check if the request was successful\n",
    "if response.status_code == 200:\n",
    "    # Parse the OPML data\n",
    "    root = ET.fromstring(response.content)\n",
    "\n",
    "    # Extract the xmlUrl from each outline\n",
    "    rss_urls = []\n",
    "    for outline in root.findall('.//outline'):\n",
    "        xml_url = outline.get('xmlUrl')\n",
    "        if xml_url:\n",
    "            rss_urls.append(xml_url)\n",
    "\n",
    "    # Output the list of RSS URLs\n",
    "    print(rss_urls)\n",
    "else:\n",
    "    print(\"Failed to fetch the OPML feed.\")"
   ]
  },
  {
   "cell_type": "code",
   "execution_count": 7,
   "metadata": {},
   "outputs": [
    {
     "data": {
      "text/plain": [
       "['http://newsrss.bbc.co.uk/rss/newsonline_uk_edition/also_in_the_news/rss.xml',\n",
       " 'http://newsrss.bbc.co.uk/rss/newsonline_uk_edition/breaking_news/rss.xml',\n",
       " 'http://newsrss.bbc.co.uk/rss/newsonline_uk_edition/business/rss.xml',\n",
       " 'http://newsrss.bbc.co.uk/rss/newsonline_uk_edition/business/africa/rss.xml',\n",
       " 'http://newsrss.bbc.co.uk/rss/newsonline_uk_edition/business/americas/rss.xml',\n",
       " 'http://newsrss.bbc.co.uk/rss/newsonline_uk_edition/business/asia-pacific/rss.xml',\n",
       " 'http://newsrss.bbc.co.uk/rss/newsonline_uk_edition/business/companies/rss.xml',\n",
       " 'http://newsrss.bbc.co.uk/rss/newsonline_uk_edition/business/economy/rss.xml',\n",
       " 'http://newsrss.bbc.co.uk/rss/newsonline_uk_edition/business/europe/rss.xml',\n",
       " 'http://newsrss.bbc.co.uk/rss/newsonline_uk_edition/business/market_data/frankfurt/rss.xml',\n",
       " 'http://newsrss.bbc.co.uk/rss/newsonline_uk_edition/business/market_data/london/rss.xml',\n",
       " 'http://newsrss.bbc.co.uk/rss/newsonline_uk_edition/business/market_data/new_york/rss.xml',\n",
       " 'http://newsrss.bbc.co.uk/rss/newsonline_uk_edition/business/market_data/paris/rss.xml',\n",
       " 'http://newsrss.bbc.co.uk/rss/newsonline_uk_edition/business/market_data/tokyo/rss.xml',\n",
       " 'http://newsrss.bbc.co.uk/rss/newsonline_uk_edition/business/middle_east/rss.xml',\n",
       " 'http://newsrss.bbc.co.uk/rss/newsonline_uk_edition/business/south_asia/rss.xml',\n",
       " 'http://newsrss.bbc.co.uk/rss/newsonline_uk_edition/business/your_money/rss.xml',\n",
       " 'http://newsrss.bbc.co.uk/rss/newsonline_uk_edition/education/rss.xml',\n",
       " 'http://newsrss.bbc.co.uk/rss/newsonline_uk_edition/education/league_tables/rss.xml',\n",
       " 'http://newsrss.bbc.co.uk/rss/newsonline_uk_edition/england/rss.xml',\n",
       " 'http://newsrss.bbc.co.uk/rss/newsonline_uk_edition/england/beds/bucks/herts/rss.xml',\n",
       " 'http://newsrss.bbc.co.uk/rss/newsonline_uk_edition/england/berkshire/rss.xml',\n",
       " 'http://newsrss.bbc.co.uk/rss/newsonline_uk_edition/england/bradford/rss.xml',\n",
       " 'http://newsrss.bbc.co.uk/rss/newsonline_uk_edition/england/bristol/rss.xml',\n",
       " 'http://newsrss.bbc.co.uk/rss/newsonline_uk_edition/england/cambridgeshire/rss.xml',\n",
       " 'http://newsrss.bbc.co.uk/rss/newsonline_uk_edition/england/cornwall/rss.xml',\n",
       " 'http://newsrss.bbc.co.uk/rss/newsonline_uk_edition/england/coventry_warwickshire/rss.xml',\n",
       " 'http://newsrss.bbc.co.uk/rss/newsonline_uk_edition/england/cumbria/rss.xml',\n",
       " 'http://newsrss.bbc.co.uk/rss/newsonline_uk_edition/england/derbyshire/rss.xml',\n",
       " 'http://newsrss.bbc.co.uk/rss/newsonline_uk_edition/england/devon/rss.xml',\n",
       " 'http://newsrss.bbc.co.uk/rss/newsonline_uk_edition/england/dorset/rss.xml',\n",
       " 'http://newsrss.bbc.co.uk/rss/newsonline_uk_edition/england/essex/rss.xml',\n",
       " 'http://newsrss.bbc.co.uk/rss/newsonline_uk_edition/england/gloucestershire/rss.xml',\n",
       " 'http://newsrss.bbc.co.uk/rss/newsonline_uk_edition/england/hampshire/rss.xml',\n",
       " 'http://newsrss.bbc.co.uk/rss/newsonline_uk_edition/england/hereford/worcs/rss.xml',\n",
       " 'http://newsrss.bbc.co.uk/rss/newsonline_uk_edition/england/humber/rss.xml',\n",
       " 'http://newsrss.bbc.co.uk/rss/newsonline_uk_edition/england/kent/rss.xml',\n",
       " 'http://newsrss.bbc.co.uk/rss/newsonline_uk_edition/england/lancashire/rss.xml',\n",
       " 'http://newsrss.bbc.co.uk/rss/newsonline_uk_edition/england/leicestershire/rss.xml',\n",
       " 'http://newsrss.bbc.co.uk/rss/newsonline_uk_edition/england/lincolnshire/rss.xml',\n",
       " 'http://newsrss.bbc.co.uk/rss/newsonline_uk_edition/england/london/rss.xml',\n",
       " 'http://newsrss.bbc.co.uk/rss/newsonline_uk_edition/england/manchester/rss.xml',\n",
       " 'http://newsrss.bbc.co.uk/rss/newsonline_uk_edition/england/merseyside/rss.xml',\n",
       " 'http://newsrss.bbc.co.uk/rss/newsonline_uk_edition/england/norfolk/rss.xml',\n",
       " 'http://newsrss.bbc.co.uk/rss/newsonline_uk_edition/england/northamptonshire/rss.xml',\n",
       " 'http://newsrss.bbc.co.uk/rss/newsonline_uk_edition/england/north_yorkshire/rss.xml',\n",
       " 'http://newsrss.bbc.co.uk/rss/newsonline_uk_edition/england/nottinghamshire/rss.xml',\n",
       " 'http://newsrss.bbc.co.uk/rss/newsonline_uk_edition/england/oxfordshire/rss.xml',\n",
       " 'http://newsrss.bbc.co.uk/rss/newsonline_uk_edition/england/shropshire/rss.xml',\n",
       " 'http://newsrss.bbc.co.uk/rss/newsonline_uk_edition/england/somerset/rss.xml',\n",
       " 'http://newsrss.bbc.co.uk/rss/newsonline_uk_edition/england/southern_counties/rss.xml',\n",
       " 'http://newsrss.bbc.co.uk/rss/newsonline_uk_edition/england/south_yorkshire/rss.xml',\n",
       " 'http://newsrss.bbc.co.uk/rss/newsonline_uk_edition/england/staffordshire/rss.xml',\n",
       " 'http://newsrss.bbc.co.uk/rss/newsonline_uk_edition/england/suffolk/rss.xml',\n",
       " 'http://newsrss.bbc.co.uk/rss/newsonline_uk_edition/england/surrey/rss.xml',\n",
       " 'http://newsrss.bbc.co.uk/rss/newsonline_uk_edition/england/sussex/rss.xml',\n",
       " 'http://newsrss.bbc.co.uk/rss/newsonline_uk_edition/england/tees/rss.xml',\n",
       " 'http://newsrss.bbc.co.uk/rss/newsonline_uk_edition/england/travel/rss.xml',\n",
       " 'http://newsrss.bbc.co.uk/rss/newsonline_uk_edition/england/tyne/rss.xml',\n",
       " 'http://newsrss.bbc.co.uk/rss/newsonline_uk_edition/england/wear/rss.xml',\n",
       " 'http://newsrss.bbc.co.uk/rss/newsonline_uk_edition/england/west_midlands/rss.xml',\n",
       " 'http://newsrss.bbc.co.uk/rss/newsonline_uk_edition/england/west_midlands/black_country/rss.xml',\n",
       " 'http://newsrss.bbc.co.uk/rss/newsonline_uk_edition/england/west_yorkshire/rss.xml',\n",
       " 'http://newsrss.bbc.co.uk/rss/newsonline_uk_edition/england/wiltshire/rss.xml',\n",
       " 'http://newsrss.bbc.co.uk/rss/newsonline_uk_edition/enhancedmobile/business/rss.xml',\n",
       " 'http://newsrss.bbc.co.uk/rss/newsonline_uk_edition/enhancedmobile/education/rss.xml',\n",
       " 'http://newsrss.bbc.co.uk/rss/newsonline_uk_edition/enhancedmobile/england/rss.xml',\n",
       " 'http://newsrss.bbc.co.uk/rss/newsonline_uk_edition/enhancedmobile/entertainment/rss.xml',\n",
       " 'http://newsrss.bbc.co.uk/rss/newsonline_uk_edition/enhancedmobile/front_page/rss.xml',\n",
       " 'http://newsrss.bbc.co.uk/rss/newsonline_uk_edition/enhancedmobile/health/rss.xml',\n",
       " 'http://newsrss.bbc.co.uk/rss/newsonline_uk_edition/enhancedmobile/magazine/rss.xml',\n",
       " 'http://newsrss.bbc.co.uk/rss/newsonline_uk_edition/enhancedmobile/mobile_services/rss.xml',\n",
       " 'http://newsrss.bbc.co.uk/rss/newsonline_uk_edition/enhancedmobile/northern_ireland/rss.xml',\n",
       " 'http://newsrss.bbc.co.uk/rss/newsonline_uk_edition/enhancedmobile/programmes/click/rss.xml',\n",
       " 'http://newsrss.bbc.co.uk/rss/newsonline_uk_edition/enhancedmobile/sci/tech/rss.xml',\n",
       " 'http://newsrss.bbc.co.uk/rss/newsonline_uk_edition/enhancedmobile/scotland/rss.xml',\n",
       " 'http://newsrss.bbc.co.uk/rss/newsonline_uk_edition/enhancedmobile/technology/rss.xml',\n",
       " 'http://newsrss.bbc.co.uk/rss/newsonline_uk_edition/enhancedmobile/uk/rss.xml',\n",
       " 'http://newsrss.bbc.co.uk/rss/newsonline_uk_edition/enhancedmobile/uk_politics/rss.xml',\n",
       " 'http://newsrss.bbc.co.uk/rss/newsonline_uk_edition/enhancedmobile/wales/rss.xml',\n",
       " 'http://newsrss.bbc.co.uk/rss/newsonline_uk_edition/enhancedmobile/world/rss.xml',\n",
       " 'http://newsrss.bbc.co.uk/rss/newsonline_uk_edition/enhancedmobile/world/africa/rss.xml',\n",
       " 'http://newsrss.bbc.co.uk/rss/newsonline_uk_edition/enhancedmobile/world/americas/rss.xml',\n",
       " 'http://newsrss.bbc.co.uk/rss/newsonline_uk_edition/enhancedmobile/world/asia-pacific/rss.xml',\n",
       " 'http://newsrss.bbc.co.uk/rss/newsonline_uk_edition/enhancedmobile/world/europe/rss.xml',\n",
       " 'http://newsrss.bbc.co.uk/rss/newsonline_uk_edition/enhancedmobile/world/middle_east/rss.xml',\n",
       " 'http://newsrss.bbc.co.uk/rss/newsonline_uk_edition/enhancedmobile/world/south_asia/rss.xml',\n",
       " 'http://newsrss.bbc.co.uk/rss/newsonline_uk_edition/entertainment/rss.xml',\n",
       " 'http://newsrss.bbc.co.uk/rss/newsonline_uk_edition/entertainment/arts_and_culture/rss.xml',\n",
       " 'http://newsrss.bbc.co.uk/rss/newsonline_uk_edition/entertainment/music/rss.xml',\n",
       " 'http://newsrss.bbc.co.uk/rss/newsonline_uk_edition/front_page/rss.xml',\n",
       " 'http://newsrss.bbc.co.uk/rss/newsonline_uk_edition/front_page/features/rss.xml',\n",
       " 'http://newsrss.bbc.co.uk/rss/newsonline_uk_edition/front_page/wide_front_page_features/rss.xml',\n",
       " 'http://newsrss.bbc.co.uk/rss/newsonline_uk_edition/health/rss.xml',\n",
       " 'http://newsrss.bbc.co.uk/rss/newsonline_uk_edition/health/medical_notes/rss.xml',\n",
       " 'http://newsrss.bbc.co.uk/rss/newsonline_uk_edition/help/rss.xml',\n",
       " 'http://newsrss.bbc.co.uk/rss/newsonline_uk_edition/help/products_and_services/rss.xml',\n",
       " 'http://newsrss.bbc.co.uk/rss/newsonline_uk_edition/in_depth/rss.xml',\n",
       " 'http://newsrss.bbc.co.uk/rss/newsonline_uk_edition/in_depth/africa/2004/somalia/rss.xml',\n",
       " 'http://newsrss.bbc.co.uk/rss/newsonline_uk_edition/in_depth/africa/2008/zimbabwe/rss.xml',\n",
       " 'http://newsrss.bbc.co.uk/rss/newsonline_uk_edition/in_depth/africa/2009/south_africa/rss.xml',\n",
       " 'http://newsrss.bbc.co.uk/rss/newsonline_uk_edition/in_depth/americas/2006/venezuela/rss.xml',\n",
       " 'http://newsrss.bbc.co.uk/rss/newsonline_uk_edition/in_depth/americas/2008/obama_presidency/rss.xml',\n",
       " 'http://newsrss.bbc.co.uk/rss/newsonline_uk_edition/in_depth/americas/2008/vote_usa_2008/rss.xml',\n",
       " 'http://newsrss.bbc.co.uk/rss/newsonline_uk_edition/in_depth/archive/2008/rss.xml',\n",
       " 'http://newsrss.bbc.co.uk/rss/newsonline_uk_edition/in_depth/asia_pacific/2004/china/rss.xml',\n",
       " 'http://newsrss.bbc.co.uk/rss/newsonline_uk_edition/in_depth/asia_pacific/2006/north_korea/rss.xml',\n",
       " 'http://newsrss.bbc.co.uk/rss/newsonline_uk_edition/in_depth/asia_pacific/2007/burma/rss.xml',\n",
       " 'http://newsrss.bbc.co.uk/rss/newsonline_uk_edition/in_depth/asia_pacific/2008/burma_cyclone/rss.xml',\n",
       " 'http://newsrss.bbc.co.uk/rss/newsonline_uk_edition/in_depth/asia_pacific/2008/china_quake/rss.xml',\n",
       " 'http://newsrss.bbc.co.uk/rss/newsonline_uk_edition/in_depth/asia_pacific/2009/australia_fires/rss.xml',\n",
       " 'http://newsrss.bbc.co.uk/rss/newsonline_uk_edition/in_depth/business/2002/pensions_crisis/rss.xml',\n",
       " 'http://newsrss.bbc.co.uk/rss/newsonline_uk_edition/in_depth/business/2003/small_business/rss.xml',\n",
       " 'http://newsrss.bbc.co.uk/rss/newsonline_uk_edition/in_depth/business/2007/creditcrunch/rss.xml',\n",
       " 'http://newsrss.bbc.co.uk/rss/newsonline_uk_edition/in_depth/business/2008/downturn/rss.xml',\n",
       " 'http://newsrss.bbc.co.uk/rss/newsonline_uk_edition/in_depth/business/2008/downturn/east/rss.xml',\n",
       " 'http://newsrss.bbc.co.uk/rss/newsonline_uk_edition/in_depth/business/2008/downturn/east_midlands/rss.xml',\n",
       " 'http://newsrss.bbc.co.uk/rss/newsonline_uk_edition/in_depth/business/2008/downturn/london/rss.xml',\n",
       " 'http://newsrss.bbc.co.uk/rss/newsonline_uk_edition/in_depth/business/2008/downturn/northern_ireland/rss.xml',\n",
       " 'http://newsrss.bbc.co.uk/rss/newsonline_uk_edition/in_depth/business/2008/downturn/north_east_and_cumbria/rss.xml',\n",
       " 'http://newsrss.bbc.co.uk/rss/newsonline_uk_edition/in_depth/business/2008/downturn/north_west/rss.xml',\n",
       " 'http://newsrss.bbc.co.uk/rss/newsonline_uk_edition/in_depth/business/2008/downturn/scotland/rss.xml',\n",
       " 'http://newsrss.bbc.co.uk/rss/newsonline_uk_edition/in_depth/business/2008/downturn/south/rss.xml',\n",
       " 'http://newsrss.bbc.co.uk/rss/newsonline_uk_edition/in_depth/business/2008/downturn/south_east/rss.xml',\n",
       " 'http://newsrss.bbc.co.uk/rss/newsonline_uk_edition/in_depth/business/2008/downturn/south_west/rss.xml',\n",
       " 'http://newsrss.bbc.co.uk/rss/newsonline_uk_edition/in_depth/business/2008/downturn/wales/rss.xml',\n",
       " 'http://newsrss.bbc.co.uk/rss/newsonline_uk_edition/in_depth/business/2008/downturn/west/rss.xml',\n",
       " 'http://newsrss.bbc.co.uk/rss/newsonline_uk_edition/in_depth/business/2008/downturn/west_midlands/rss.xml',\n",
       " 'http://newsrss.bbc.co.uk/rss/newsonline_uk_edition/in_depth/business/2008/downturn/yorks_lincs/rss.xml',\n",
       " 'http://newsrss.bbc.co.uk/rss/newsonline_uk_edition/in_depth/business/2008/inflation/rss.xml',\n",
       " 'http://newsrss.bbc.co.uk/rss/newsonline_uk_edition/in_depth/business/2008/pre_budget_report/rss.xml',\n",
       " 'http://newsrss.bbc.co.uk/rss/newsonline_uk_edition/in_depth/business/2008/the_box/rss.xml',\n",
       " 'http://newsrss.bbc.co.uk/rss/newsonline_uk_edition/in_depth/business/2009/budget_2009/rss.xml',\n",
       " 'http://newsrss.bbc.co.uk/rss/newsonline_uk_edition/in_depth/business/2009/davos/rss.xml',\n",
       " 'http://newsrss.bbc.co.uk/rss/newsonline_uk_edition/in_depth/business/2009/g20/rss.xml',\n",
       " 'http://newsrss.bbc.co.uk/rss/newsonline_uk_edition/in_depth/business/2009/penny_drops/rss.xml',\n",
       " 'http://newsrss.bbc.co.uk/rss/newsonline_uk_edition/in_depth/business/mortgages/rss.xml',\n",
       " 'http://newsrss.bbc.co.uk/rss/newsonline_uk_edition/in_depth/business/savings_investments/rss.xml',\n",
       " 'http://newsrss.bbc.co.uk/rss/newsonline_uk_edition/in_depth/entertainment/2009/cannes_2009/rss.xml',\n",
       " 'http://newsrss.bbc.co.uk/rss/newsonline_uk_edition/in_depth/entertainment/2009/oscars_2009/rss.xml',\n",
       " 'http://newsrss.bbc.co.uk/rss/newsonline_uk_edition/in_depth/entertainment/2009/sound_of_2009/rss.xml',\n",
       " 'http://newsrss.bbc.co.uk/rss/newsonline_uk_edition/in_depth/europe/2003/inside_europe/rss.xml',\n",
       " 'http://newsrss.bbc.co.uk/rss/newsonline_uk_edition/in_depth/europe/2007/resurgent_russia/rss.xml',\n",
       " 'http://newsrss.bbc.co.uk/rss/newsonline_uk_edition/in_depth/europe/2008/georgia_russia_conflict/rss.xml',\n",
       " 'http://newsrss.bbc.co.uk/rss/newsonline_uk_edition/in_depth/europe/2009/1989_europes_revolution/rss.xml',\n",
       " 'http://newsrss.bbc.co.uk/rss/newsonline_uk_edition/in_depth/europe/2009/election_09/rss.xml',\n",
       " 'http://newsrss.bbc.co.uk/rss/newsonline_uk_edition/in_depth/health/2009/scrubbing_up/rss.xml',\n",
       " 'http://newsrss.bbc.co.uk/rss/newsonline_uk_edition/in_depth/middle_east/2001/israel_and_the_palestinians/rss.xml',\n",
       " 'http://newsrss.bbc.co.uk/rss/newsonline_uk_edition/in_depth/middle_east/2002/conflict_with_iraq/rss.xml',\n",
       " 'http://newsrss.bbc.co.uk/rss/newsonline_uk_edition/in_depth/middle_east/2004/iran/rss.xml',\n",
       " 'http://newsrss.bbc.co.uk/rss/newsonline_uk_edition/in_depth/middle_east/jerusalemdiary/rss.xml',\n",
       " 'http://newsrss.bbc.co.uk/rss/newsonline_uk_edition/in_depth/sci_tech/2008/alieninvaders/rss.xml',\n",
       " 'http://newsrss.bbc.co.uk/rss/newsonline_uk_edition/in_depth/sci_tech/2008/e3/rss.xml',\n",
       " 'http://newsrss.bbc.co.uk/rss/newsonline_uk_edition/in_depth/sci_tech/green_room/rss.xml',\n",
       " 'http://newsrss.bbc.co.uk/rss/newsonline_uk_edition/in_depth/scotland/2008/snp_conference/rss.xml',\n",
       " 'http://newsrss.bbc.co.uk/rss/newsonline_uk_edition/in_depth/south_asia/2002/kashmir_flashpoint/rss.xml',\n",
       " 'http://newsrss.bbc.co.uk/rss/newsonline_uk_edition/in_depth/south_asia/2004/afghanistan/rss.xml',\n",
       " 'http://newsrss.bbc.co.uk/rss/newsonline_uk_edition/in_depth/south_asia/2004/india_votes_2004/rss.xml',\n",
       " 'http://newsrss.bbc.co.uk/rss/newsonline_uk_edition/in_depth/south_asia/2005/india_week/rss.xml',\n",
       " 'http://newsrss.bbc.co.uk/rss/newsonline_uk_edition/in_depth/south_asia/2005/south_asia_quake/rss.xml',\n",
       " 'http://newsrss.bbc.co.uk/rss/newsonline_uk_edition/in_depth/south_asia/2007/pakistan/rss.xml',\n",
       " 'http://newsrss.bbc.co.uk/rss/newsonline_uk_edition/in_depth/south_asia/2008/mumbai_attacks/rss.xml',\n",
       " 'http://newsrss.bbc.co.uk/rss/newsonline_uk_edition/in_depth/south_asia/2009/indian_election/rss.xml',\n",
       " 'http://newsrss.bbc.co.uk/rss/newsonline_uk_edition/in_depth/south_asia/2009/indian_election_2009/rss.xml',\n",
       " 'http://newsrss.bbc.co.uk/rss/newsonline_uk_edition/in_depth/south_asia/2009/india_election/rss.xml',\n",
       " 'http://newsrss.bbc.co.uk/rss/newsonline_uk_edition/in_depth/south_asia/2009/india_election/if_i_were_prime_minister/rss.xml',\n",
       " 'http://newsrss.bbc.co.uk/rss/newsonline_uk_edition/in_depth/uk/2006/foi/rss.xml',\n",
       " 'http://newsrss.bbc.co.uk/rss/newsonline_uk_edition/in_depth/uk/2009/cityscapes/rss.xml',\n",
       " 'http://newsrss.bbc.co.uk/rss/newsonline_uk_edition/in_depth/uk/2009/did_it_work/rss.xml',\n",
       " 'http://newsrss.bbc.co.uk/rss/newsonline_uk_edition/in_depth/uk/2009/religion/rss.xml',\n",
       " 'http://newsrss.bbc.co.uk/rss/newsonline_uk_edition/in_depth/uk_politics/2000/conferences/rss.xml',\n",
       " 'http://newsrss.bbc.co.uk/rss/newsonline_uk_edition/in_depth/uk_politics/2008/party_conferences_2008/rss.xml',\n",
       " 'http://newsrss.bbc.co.uk/rss/newsonline_uk_edition/in_depth/world/2008/costoffood/rss.xml',\n",
       " 'http://newsrss.bbc.co.uk/rss/newsonline_uk_edition/in_depth/world/2009/global_marketplaces/rss.xml',\n",
       " 'http://newsrss.bbc.co.uk/rss/newsonline_uk_edition/in_depth/world/2009/swine_flu/rss.xml',\n",
       " 'http://newsrss.bbc.co.uk/rss/newsonline_uk_edition/in_pictures/rss.xml',\n",
       " 'http://newsrss.bbc.co.uk/rss/newsonline_uk_edition/latest_published_stories/rss.xml',\n",
       " 'http://newsrss.bbc.co.uk/rss/newsonline_uk_edition/livestats/most_emailed/rss.xml',\n",
       " 'http://newsrss.bbc.co.uk/rss/newsonline_uk_edition/livestats/most_read/rss.xml',\n",
       " 'http://newsrss.bbc.co.uk/rss/newsonline_uk_edition/magazine/rss.xml',\n",
       " 'http://newsrss.bbc.co.uk/rss/newsonline_uk_edition/magazine/views/a_point_of_view/rss.xml',\n",
       " 'http://newsrss.bbc.co.uk/rss/newsonline_uk_edition/northern_ireland/rss.xml',\n",
       " 'http://newsrss.bbc.co.uk/rss/newsonline_uk_edition/northern_ireland/foyle_and_west/rss.xml',\n",
       " 'http://newsrss.bbc.co.uk/rss/newsonline_uk_edition/northern_ireland/northern_ireland_politics/rss.xml',\n",
       " 'http://newsrss.bbc.co.uk/rss/newsonline_uk_edition/not_in_website/syndication/monitoring/media_reports/rss.xml',\n",
       " 'http://newsrss.bbc.co.uk/rss/newsonline_uk_edition/programmes/analysis/rss.xml',\n",
       " 'http://newsrss.bbc.co.uk/rss/newsonline_uk_edition/programmes/andrew_marr_show/rss.xml',\n",
       " 'http://newsrss.bbc.co.uk/rss/newsonline_uk_edition/programmes/andrew_marr_show/previous_guests/rss.xml',\n",
       " 'http://newsrss.bbc.co.uk/rss/newsonline_uk_edition/programmes/andrew_marr_show/video_highlights/rss.xml',\n",
       " 'http://newsrss.bbc.co.uk/rss/newsonline_uk_edition/programmes/battle_for_islam/rss.xml',\n",
       " 'http://newsrss.bbc.co.uk/rss/newsonline_uk_edition/programmes/bbc_parliament/rss.xml',\n",
       " 'http://newsrss.bbc.co.uk/rss/newsonline_uk_edition/programmes/breakfast/rss.xml',\n",
       " 'http://newsrss.bbc.co.uk/rss/newsonline_uk_edition/programmes/click_online/rss.xml',\n",
       " 'http://newsrss.bbc.co.uk/rss/newsonline_uk_edition/programmes/click_online/about_the_programme/rss.xml',\n",
       " 'http://newsrss.bbc.co.uk/rss/newsonline_uk_edition/programmes/click_online/archive/rss.xml',\n",
       " 'http://newsrss.bbc.co.uk/rss/newsonline_uk_edition/programmes/click_online/archive/2006/rss.xml',\n",
       " 'http://newsrss.bbc.co.uk/rss/newsonline_uk_edition/programmes/click_online/archive/2007/rss.xml',\n",
       " 'http://newsrss.bbc.co.uk/rss/newsonline_uk_edition/programmes/click_online/archive/2009/rss.xml',\n",
       " 'http://newsrss.bbc.co.uk/rss/newsonline_uk_edition/programmes/click_online/buyers_guides/rss.xml',\n",
       " 'http://newsrss.bbc.co.uk/rss/newsonline_uk_edition/programmes/click_online/click_tips/rss.xml',\n",
       " 'http://newsrss.bbc.co.uk/rss/newsonline_uk_edition/programmes/click_online/inbox/rss.xml',\n",
       " 'http://newsrss.bbc.co.uk/rss/newsonline_uk_edition/programmes/crossing_continents/rss.xml',\n",
       " 'http://newsrss.bbc.co.uk/rss/newsonline_uk_edition/programmes/file_on_4/rss.xml',\n",
       " 'http://newsrss.bbc.co.uk/rss/newsonline_uk_edition/programmes/from_our_own_correspondent/rss.xml',\n",
       " 'http://newsrss.bbc.co.uk/rss/newsonline_uk_edition/programmes/hardtalk/rss.xml',\n",
       " 'http://newsrss.bbc.co.uk/rss/newsonline_uk_edition/programmes/law_in_action/rss.xml',\n",
       " 'http://newsrss.bbc.co.uk/rss/newsonline_uk_edition/programmes/moneybox/rss.xml',\n",
       " 'http://newsrss.bbc.co.uk/rss/newsonline_uk_edition/programmes/more_or_less/rss.xml',\n",
       " 'http://newsrss.bbc.co.uk/rss/newsonline_uk_edition/programmes/newsnight/rss.xml',\n",
       " 'http://newsrss.bbc.co.uk/rss/newsonline_uk_edition/programmes/newsnight/afghanistan/rss.xml',\n",
       " 'http://newsrss.bbc.co.uk/rss/newsonline_uk_edition/programmes/newsnight/credit_crunch/rss.xml',\n",
       " 'http://newsrss.bbc.co.uk/rss/newsonline_uk_edition/programmes/newsnight/iraq/rss.xml',\n",
       " 'http://newsrss.bbc.co.uk/rss/newsonline_uk_edition/programmes/newsnight/review/rss.xml',\n",
       " 'http://newsrss.bbc.co.uk/rss/newsonline_uk_edition/programmes/newsnight/video/rss.xml',\n",
       " 'http://newsrss.bbc.co.uk/rss/newsonline_uk_edition/programmes/politics_show/rss.xml',\n",
       " 'http://newsrss.bbc.co.uk/rss/newsonline_uk_edition/programmes/politics_show/archive/rss.xml',\n",
       " 'http://newsrss.bbc.co.uk/rss/newsonline_uk_edition/programmes/politics_show/interviews/rss.xml',\n",
       " 'http://newsrss.bbc.co.uk/rss/newsonline_uk_edition/programmes/politics_show/regions/east/rss.xml',\n",
       " 'http://newsrss.bbc.co.uk/rss/newsonline_uk_edition/programmes/politics_show/regions/east_midlands/rss.xml',\n",
       " 'http://newsrss.bbc.co.uk/rss/newsonline_uk_edition/programmes/politics_show/regions/london/rss.xml',\n",
       " 'http://newsrss.bbc.co.uk/rss/newsonline_uk_edition/programmes/politics_show/regions/northern_ireland/rss.xml',\n",
       " 'http://newsrss.bbc.co.uk/rss/newsonline_uk_edition/programmes/politics_show/regions/north_east_and_cumbria/rss.xml',\n",
       " 'http://newsrss.bbc.co.uk/rss/newsonline_uk_edition/programmes/politics_show/regions/north_west/rss.xml',\n",
       " 'http://newsrss.bbc.co.uk/rss/newsonline_uk_edition/programmes/politics_show/regions/scotland/rss.xml',\n",
       " 'http://newsrss.bbc.co.uk/rss/newsonline_uk_edition/programmes/politics_show/regions/south/rss.xml',\n",
       " 'http://newsrss.bbc.co.uk/rss/newsonline_uk_edition/programmes/politics_show/regions/south_east/rss.xml',\n",
       " 'http://newsrss.bbc.co.uk/rss/newsonline_uk_edition/programmes/politics_show/regions/south_west/rss.xml',\n",
       " 'http://newsrss.bbc.co.uk/rss/newsonline_uk_edition/programmes/politics_show/regions/wales/rss.xml',\n",
       " 'http://newsrss.bbc.co.uk/rss/newsonline_uk_edition/programmes/politics_show/regions/west/rss.xml',\n",
       " 'http://newsrss.bbc.co.uk/rss/newsonline_uk_edition/programmes/politics_show/regions/west_midlands/rss.xml',\n",
       " 'http://newsrss.bbc.co.uk/rss/newsonline_uk_edition/programmes/politics_show/regions/yorkshire_and_lincolnshire/rss.xml',\n",
       " 'http://newsrss.bbc.co.uk/rss/newsonline_uk_edition/programmes/question_time/rss.xml',\n",
       " 'http://newsrss.bbc.co.uk/rss/newsonline_uk_edition/programmes/question_time/schools_question_time/rss.xml',\n",
       " 'http://newsrss.bbc.co.uk/rss/newsonline_uk_edition/programmes/question_time/your_say/rss.xml',\n",
       " 'http://newsrss.bbc.co.uk/rss/newsonline_uk_edition/programmes/the_daily_politics/rss.xml',\n",
       " 'http://newsrss.bbc.co.uk/rss/newsonline_uk_edition/programmes/the_westminster_hour/rss.xml',\n",
       " 'http://newsrss.bbc.co.uk/rss/newsonline_uk_edition/programmes/this_week/rss.xml',\n",
       " 'http://newsrss.bbc.co.uk/rss/newsonline_uk_edition/programmes/this_week/guest_gallery/rss.xml',\n",
       " 'http://newsrss.bbc.co.uk/rss/newsonline_uk_edition/programmes/this_world/rss.xml',\n",
       " 'http://newsrss.bbc.co.uk/rss/newsonline_uk_edition/programmes/this_world/archive/2004/rss.xml',\n",
       " 'http://newsrss.bbc.co.uk/rss/newsonline_uk_edition/programmes/this_world/archive/2005/rss.xml',\n",
       " 'http://newsrss.bbc.co.uk/rss/newsonline_uk_edition/programmes/this_world/archive/2006/rss.xml',\n",
       " 'http://newsrss.bbc.co.uk/rss/newsonline_uk_edition/programmes/this_world/archive/2007/rss.xml',\n",
       " 'http://newsrss.bbc.co.uk/rss/newsonline_uk_edition/programmes/this_world/archive/2008/rss.xml',\n",
       " 'http://newsrss.bbc.co.uk/rss/newsonline_uk_edition/programmes/this_world/archive/2009/rss.xml',\n",
       " 'http://newsrss.bbc.co.uk/rss/newsonline_uk_edition/programmes/this_world/archive/africa/rss.xml',\n",
       " 'http://newsrss.bbc.co.uk/rss/newsonline_uk_edition/programmes/this_world/archive/americas/rss.xml',\n",
       " 'http://newsrss.bbc.co.uk/rss/newsonline_uk_edition/programmes/this_world/archive/asia_pacific/rss.xml',\n",
       " 'http://newsrss.bbc.co.uk/rss/newsonline_uk_edition/programmes/this_world/archive/europe/rss.xml',\n",
       " 'http://newsrss.bbc.co.uk/rss/newsonline_uk_edition/programmes/this_world/archive/middle_east/rss.xml',\n",
       " 'http://newsrss.bbc.co.uk/rss/newsonline_uk_edition/programmes/this_world/archive/south_asia/rss.xml',\n",
       " 'http://newsrss.bbc.co.uk/rss/newsonline_uk_edition/programmes/working_lunch/rss.xml',\n",
       " 'http://newsrss.bbc.co.uk/rss/newsonline_uk_edition/programmes/world_news_america/rss.xml',\n",
       " 'http://newsrss.bbc.co.uk/rss/newsonline_uk_edition/school_report/rss.xml',\n",
       " 'http://newsrss.bbc.co.uk/rss/newsonline_uk_edition/school_report/news_day_2009/rss.xml',\n",
       " 'http://newsrss.bbc.co.uk/rss/newsonline_uk_edition/school_report/project_news/rss.xml',\n",
       " 'http://newsrss.bbc.co.uk/rss/newsonline_uk_edition/school_report/resources_for_teachers/rss.xml',\n",
       " 'http://newsrss.bbc.co.uk/rss/newsonline_uk_edition/school_report/student_reports/rss.xml',\n",
       " 'http://newsrss.bbc.co.uk/rss/newsonline_uk_edition/sci/tech/rss.xml',\n",
       " 'http://newsrss.bbc.co.uk/rss/newsonline_uk_edition/scotland/rss.xml',\n",
       " 'http://newsrss.bbc.co.uk/rss/newsonline_uk_edition/scotland/edinburgh_and_east/rss.xml',\n",
       " 'http://newsrss.bbc.co.uk/rss/newsonline_uk_edition/scotland/glasgow_and_west/rss.xml',\n",
       " 'http://newsrss.bbc.co.uk/rss/newsonline_uk_edition/scotland/highlands_and_islands/rss.xml',\n",
       " 'http://newsrss.bbc.co.uk/rss/newsonline_uk_edition/scotland/north_east/rss.xml',\n",
       " 'http://newsrss.bbc.co.uk/rss/newsonline_uk_edition/scotland/scotland_newspapers/rss.xml',\n",
       " 'http://newsrss.bbc.co.uk/rss/newsonline_uk_edition/scotland/scotland_politics/rss.xml',\n",
       " 'http://newsrss.bbc.co.uk/rss/newsonline_uk_edition/scotland/scotland_video_and_audio/rss.xml',\n",
       " 'http://newsrss.bbc.co.uk/rss/newsonline_uk_edition/scotland/south_of_scotland/rss.xml',\n",
       " 'http://newsrss.bbc.co.uk/rss/newsonline_uk_edition/scotland/tayside_and_central/rss.xml',\n",
       " 'http://newsrss.bbc.co.uk/rss/newsonline_uk_edition/staging_site/programmes/master_programme/rss.xml',\n",
       " 'http://newsrss.bbc.co.uk/rss/newsonline_uk_edition/syndication/background/rss.xml',\n",
       " 'http://newsrss.bbc.co.uk/rss/newsonline_uk_edition/syndication/best_of_bbc/rss.xml',\n",
       " 'http://newsrss.bbc.co.uk/rss/newsonline_uk_edition/talking_point/rss.xml',\n",
       " 'http://newsrss.bbc.co.uk/rss/newsonline_uk_edition/talking_point/africa_have_your_say/rss.xml',\n",
       " 'http://newsrss.bbc.co.uk/rss/newsonline_uk_edition/talking_point/g20_video/rss.xml',\n",
       " 'http://newsrss.bbc.co.uk/rss/newsonline_uk_edition/technology/rss.xml',\n",
       " 'http://newsrss.bbc.co.uk/rss/newsonline_uk_edition/uk/rss.xml',\n",
       " 'http://newsrss.bbc.co.uk/rss/newsonline_uk_edition/uk/uk_newspapers/rss.xml',\n",
       " 'http://newsrss.bbc.co.uk/rss/newsonline_uk_edition/uk_politics/rss.xml',\n",
       " 'http://newsrss.bbc.co.uk/rss/newsonline_uk_edition/uk_politics/northern_ireland/rss.xml',\n",
       " 'http://newsrss.bbc.co.uk/rss/newsonline_uk_edition/uk_politics/tory_spring_conference_2009/rss.xml',\n",
       " 'http://newsrss.bbc.co.uk/rss/newsonline_uk_edition/wales/rss.xml',\n",
       " 'http://newsrss.bbc.co.uk/rss/newsonline_uk_edition/wales/childhood/rss.xml',\n",
       " 'http://newsrss.bbc.co.uk/rss/newsonline_uk_edition/wales/mid/rss.xml',\n",
       " 'http://newsrss.bbc.co.uk/rss/newsonline_uk_edition/wales/north_east/rss.xml',\n",
       " 'http://newsrss.bbc.co.uk/rss/newsonline_uk_edition/wales/north_west/rss.xml',\n",
       " 'http://newsrss.bbc.co.uk/rss/newsonline_uk_edition/wales/south_east/rss.xml',\n",
       " 'http://newsrss.bbc.co.uk/rss/newsonline_uk_edition/wales/south_west/rss.xml',\n",
       " 'http://newsrss.bbc.co.uk/rss/newsonline_uk_edition/wales/wales_politics/rss.xml',\n",
       " 'http://newsrss.bbc.co.uk/rss/newsonline_uk_edition/world/rss.xml',\n",
       " 'http://newsrss.bbc.co.uk/rss/newsonline_uk_edition/world/africa/rss.xml',\n",
       " 'http://newsrss.bbc.co.uk/rss/newsonline_uk_edition/world/africa/country_profiles/rss.xml',\n",
       " 'http://newsrss.bbc.co.uk/rss/newsonline_uk_edition/world/americas/rss.xml',\n",
       " 'http://newsrss.bbc.co.uk/rss/newsonline_uk_edition/world/americas/country_profiles/rss.xml',\n",
       " 'http://newsrss.bbc.co.uk/rss/newsonline_uk_edition/world/asia-pacific/rss.xml',\n",
       " 'http://newsrss.bbc.co.uk/rss/newsonline_uk_edition/world/asia-pacific/country_profiles/rss.xml',\n",
       " 'http://newsrss.bbc.co.uk/rss/newsonline_uk_edition/world/europe/rss.xml',\n",
       " 'http://newsrss.bbc.co.uk/rss/newsonline_uk_edition/world/europe/country_profiles/rss.xml',\n",
       " 'http://newsrss.bbc.co.uk/rss/newsonline_uk_edition/world/europe/guernsey/rss.xml',\n",
       " 'http://newsrss.bbc.co.uk/rss/newsonline_uk_edition/world/europe/isle_of_man/rss.xml',\n",
       " 'http://newsrss.bbc.co.uk/rss/newsonline_uk_edition/world/europe/jersey/rss.xml',\n",
       " 'http://newsrss.bbc.co.uk/rss/newsonline_uk_edition/world/middle_east/rss.xml',\n",
       " 'http://newsrss.bbc.co.uk/rss/newsonline_uk_edition/world/middle_east/country_profiles/rss.xml',\n",
       " 'http://newsrss.bbc.co.uk/rss/newsonline_uk_edition/world/south_asia/rss.xml',\n",
       " 'http://newsrss.bbc.co.uk/rss/newsonline_uk_edition/world/south_asia/country_profiles/rss.xml']"
      ]
     },
     "execution_count": 7,
     "metadata": {},
     "output_type": "execute_result"
    }
   ],
   "source": [
    "rss_urls"
   ]
  },
  {
   "cell_type": "code",
   "execution_count": 13,
   "metadata": {},
   "outputs": [],
   "source": [
    "chosen_xml=['https://feeds.bbci.co.uk/news/business/rss.xml?edition=uk','https://feeds.bbci.co.uk/news/education/rss.xml?edition=uk','https://feeds.bbci.co.uk/news/entertainment_and_arts/rss.xml?edition=uk',\n",
    "            'https://feeds.bbci.co.uk/news/health/rss.xml?edition=uk','https://feeds.bbci.co.uk/news/technology/rss.xml?edition=uk','https://feeds.bbci.co.uk/news/world/rss.xml?edition=uk','https://feeds.bbci.co.uk/news/science_and_environment/rss.xml?edition=uk']"
   ]
  },
  {
   "cell_type": "markdown",
   "metadata": {},
   "source": [
    "https://support.bbc.co.uk/platform/feeds/UkNews.htm"
   ]
  },
  {
   "cell_type": "code",
   "execution_count": 14,
   "metadata": {},
   "outputs": [],
   "source": [
    "world_news=chosen_xml"
   ]
  },
  {
   "cell_type": "code",
   "execution_count": 28,
   "metadata": {},
   "outputs": [
    {
     "name": "stderr",
     "output_type": "stream",
     "text": [
      "Fetching RSS Feeds: 100%|██████████| 7/7 [00:03<00:00,  2.07it/s]\n"
     ]
    }
   ],
   "source": [
    "import pandas as pd\n",
    "import pytz\n",
    "import requests\n",
    "from bs4 import BeautifulSoup\n",
    "from datetime import datetime, timedelta\n",
    "from urllib.parse import urlparse\n",
    "\n",
    "def get_source_name(url):\n",
    "    domain = urlparse(url).netloc\n",
    "    source = domain.replace('www.', '').split('.')[0]\n",
    "    return source\n",
    "\n",
    "def parser_items_rss(url):\n",
    "    response = requests.get(url)\n",
    "    soup = BeautifulSoup(response.content, 'xml')\n",
    "    items = soup.find_all('item')\n",
    "    source = get_source_name(url)\n",
    "\n",
    "    lista_items = []\n",
    "    for item in items:\n",
    "        row = {\n",
    "            \"title\": item.find('title').text if item.find('title') else None,\n",
    "            \"description\": item.find('description').text if item.find('description') else None,\n",
    "            \"url\": item.find('link').text if item.find('link') else None,\n",
    "            \"pubDate\": item.find('pubDate').text if item.find('pubDate') else None,\n",
    "            \"source\": source\n",
    "        }\n",
    "        lista_items.append(row)\n",
    "\n",
    "    return lista_items\n",
    "\n",
    "\n",
    "from tqdm import tqdm\n",
    "datos = []\n",
    "for url in tqdm(world_news, desc=\"Fetching RSS Feeds\"):\n",
    "    datos.extend(parser_items_rss(url))"
   ]
  },
  {
   "cell_type": "code",
   "execution_count": 55,
   "metadata": {},
   "outputs": [],
   "source": [
    "df = pd.DataFrame(datos)"
   ]
  },
  {
   "cell_type": "code",
   "execution_count": 17,
   "metadata": {},
   "outputs": [
    {
     "name": "stdout",
     "output_type": "stream",
     "text": [
      "<class 'pandas.core.frame.DataFrame'>\n",
      "RangeIndex: 248 entries, 0 to 247\n",
      "Data columns (total 5 columns):\n",
      " #   Column       Non-Null Count  Dtype \n",
      "---  ------       --------------  ----- \n",
      " 0   title        248 non-null    object\n",
      " 1   description  248 non-null    object\n",
      " 2   url          248 non-null    object\n",
      " 3   pubDate      248 non-null    object\n",
      " 4   source       248 non-null    object\n",
      "dtypes: object(5)\n",
      "memory usage: 9.8+ KB\n"
     ]
    }
   ],
   "source": [
    "df.info()"
   ]
  },
  {
   "cell_type": "code",
   "execution_count": 30,
   "metadata": {},
   "outputs": [
    {
     "data": {
      "text/html": [
       "<div>\n",
       "<style scoped>\n",
       "    .dataframe tbody tr th:only-of-type {\n",
       "        vertical-align: middle;\n",
       "    }\n",
       "\n",
       "    .dataframe tbody tr th {\n",
       "        vertical-align: top;\n",
       "    }\n",
       "\n",
       "    .dataframe thead th {\n",
       "        text-align: right;\n",
       "    }\n",
       "</style>\n",
       "<table border=\"1\" class=\"dataframe\">\n",
       "  <thead>\n",
       "    <tr style=\"text-align: right;\">\n",
       "      <th></th>\n",
       "      <th>title</th>\n",
       "      <th>description</th>\n",
       "      <th>url</th>\n",
       "      <th>pubDate</th>\n",
       "      <th>source</th>\n",
       "    </tr>\n",
       "  </thead>\n",
       "  <tbody>\n",
       "    <tr>\n",
       "      <th>0</th>\n",
       "      <td>Private sector pay rises drive up UK wage growth</td>\n",
       "      <td>Wage growth increased by 5.6% annually in the ...</td>\n",
       "      <td>https://www.bbc.com/news/articles/c4g372w32vjo</td>\n",
       "      <td>Tue, 21 Jan 2025 07:30:02 GMT</td>\n",
       "      <td>feeds</td>\n",
       "    </tr>\n",
       "    <tr>\n",
       "      <th>1</th>\n",
       "      <td>Delay to TikTok ban gets Trump sign-off</td>\n",
       "      <td>The order was among a slew of directives Trump...</td>\n",
       "      <td>https://www.bbc.com/news/articles/cd0j24rj4ryo</td>\n",
       "      <td>Tue, 21 Jan 2025 05:04:09 GMT</td>\n",
       "      <td>feeds</td>\n",
       "    </tr>\n",
       "    <tr>\n",
       "      <th>2</th>\n",
       "      <td>Stock markets cautious as Trump signals new ta...</td>\n",
       "      <td>The US president said he is considering imposi...</td>\n",
       "      <td>https://www.bbc.com/news/articles/c1ezgdj7wvpo</td>\n",
       "      <td>Tue, 21 Jan 2025 06:51:49 GMT</td>\n",
       "      <td>feeds</td>\n",
       "    </tr>\n",
       "    <tr>\n",
       "      <th>3</th>\n",
       "      <td>Working from home 'not proper work' - ex-Asda ...</td>\n",
       "      <td>Lord Rose says it harms productivity but exper...</td>\n",
       "      <td>https://www.bbc.com/news/articles/c0qww8xdvnwo</td>\n",
       "      <td>Mon, 20 Jan 2025 05:55:37 GMT</td>\n",
       "      <td>feeds</td>\n",
       "    </tr>\n",
       "    <tr>\n",
       "      <th>4</th>\n",
       "      <td>What executive orders did Trump sign on day one?</td>\n",
       "      <td>The Republican quickly set about using his new...</td>\n",
       "      <td>https://www.bbc.com/news/articles/ced961egp65o</td>\n",
       "      <td>Tue, 21 Jan 2025 05:35:02 GMT</td>\n",
       "      <td>feeds</td>\n",
       "    </tr>\n",
       "    <tr>\n",
       "      <th>...</th>\n",
       "      <td>...</td>\n",
       "      <td>...</td>\n",
       "      <td>...</td>\n",
       "      <td>...</td>\n",
       "      <td>...</td>\n",
       "    </tr>\n",
       "    <tr>\n",
       "      <th>233</th>\n",
       "      <td>Joyful welcome by stranded astronauts for Spac...</td>\n",
       "      <td>A capsule sent to bring back two astronauts st...</td>\n",
       "      <td>https://www.bbc.com/news/videos/cly4j5p21z7o</td>\n",
       "      <td>Mon, 30 Sep 2024 18:00:32 GMT</td>\n",
       "      <td>feeds</td>\n",
       "    </tr>\n",
       "    <tr>\n",
       "      <th>234</th>\n",
       "      <td>Astronauts reveal what life is like on ISS – a...</td>\n",
       "      <td>As Suni Williams and Butch Wilmore spend month...</td>\n",
       "      <td>https://www.bbc.com/news/articles/cp3dv0ddwp7o</td>\n",
       "      <td>Sun, 15 Sep 2024 13:44:52 GMT</td>\n",
       "      <td>feeds</td>\n",
       "    </tr>\n",
       "    <tr>\n",
       "      <th>235</th>\n",
       "      <td>Reservoir of liquid water found deep in Martia...</td>\n",
       "      <td>Studies of quakes detected from the planet's s...</td>\n",
       "      <td>https://www.bbc.com/news/articles/czxl849j77ko</td>\n",
       "      <td>Mon, 12 Aug 2024 19:00:06 GMT</td>\n",
       "      <td>feeds</td>\n",
       "    </tr>\n",
       "    <tr>\n",
       "      <th>236</th>\n",
       "      <td>Europe's Ariane-6 rocket blasts off on maiden ...</td>\n",
       "      <td>After a successful launch, the upper-stage of ...</td>\n",
       "      <td>https://www.bbc.com/news/articles/c19km33k1mpo</td>\n",
       "      <td>Tue, 09 Jul 2024 23:56:16 GMT</td>\n",
       "      <td>feeds</td>\n",
       "    </tr>\n",
       "    <tr>\n",
       "      <th>237</th>\n",
       "      <td>Who owns the Moon? A new space race means it c...</td>\n",
       "      <td>A race for the lunar surface's resources is cu...</td>\n",
       "      <td>https://www.bbc.com/news/articles/cxwwjlrk1mlo</td>\n",
       "      <td>Sat, 08 Jun 2024 23:58:01 GMT</td>\n",
       "      <td>feeds</td>\n",
       "    </tr>\n",
       "  </tbody>\n",
       "</table>\n",
       "<p>238 rows × 5 columns</p>\n",
       "</div>"
      ],
      "text/plain": [
       "                                                 title  \\\n",
       "0     Private sector pay rises drive up UK wage growth   \n",
       "1             Delay to TikTok ban gets Trump sign-off    \n",
       "2    Stock markets cautious as Trump signals new ta...   \n",
       "3    Working from home 'not proper work' - ex-Asda ...   \n",
       "4     What executive orders did Trump sign on day one?   \n",
       "..                                                 ...   \n",
       "233  Joyful welcome by stranded astronauts for Spac...   \n",
       "234  Astronauts reveal what life is like on ISS – a...   \n",
       "235  Reservoir of liquid water found deep in Martia...   \n",
       "236  Europe's Ariane-6 rocket blasts off on maiden ...   \n",
       "237  Who owns the Moon? A new space race means it c...   \n",
       "\n",
       "                                           description  \\\n",
       "0    Wage growth increased by 5.6% annually in the ...   \n",
       "1    The order was among a slew of directives Trump...   \n",
       "2    The US president said he is considering imposi...   \n",
       "3    Lord Rose says it harms productivity but exper...   \n",
       "4    The Republican quickly set about using his new...   \n",
       "..                                                 ...   \n",
       "233  A capsule sent to bring back two astronauts st...   \n",
       "234  As Suni Williams and Butch Wilmore spend month...   \n",
       "235  Studies of quakes detected from the planet's s...   \n",
       "236  After a successful launch, the upper-stage of ...   \n",
       "237  A race for the lunar surface's resources is cu...   \n",
       "\n",
       "                                                url  \\\n",
       "0    https://www.bbc.com/news/articles/c4g372w32vjo   \n",
       "1    https://www.bbc.com/news/articles/cd0j24rj4ryo   \n",
       "2    https://www.bbc.com/news/articles/c1ezgdj7wvpo   \n",
       "3    https://www.bbc.com/news/articles/c0qww8xdvnwo   \n",
       "4    https://www.bbc.com/news/articles/ced961egp65o   \n",
       "..                                              ...   \n",
       "233    https://www.bbc.com/news/videos/cly4j5p21z7o   \n",
       "234  https://www.bbc.com/news/articles/cp3dv0ddwp7o   \n",
       "235  https://www.bbc.com/news/articles/czxl849j77ko   \n",
       "236  https://www.bbc.com/news/articles/c19km33k1mpo   \n",
       "237  https://www.bbc.com/news/articles/cxwwjlrk1mlo   \n",
       "\n",
       "                           pubDate source  \n",
       "0    Tue, 21 Jan 2025 07:30:02 GMT  feeds  \n",
       "1    Tue, 21 Jan 2025 05:04:09 GMT  feeds  \n",
       "2    Tue, 21 Jan 2025 06:51:49 GMT  feeds  \n",
       "3    Mon, 20 Jan 2025 05:55:37 GMT  feeds  \n",
       "4    Tue, 21 Jan 2025 05:35:02 GMT  feeds  \n",
       "..                             ...    ...  \n",
       "233  Mon, 30 Sep 2024 18:00:32 GMT  feeds  \n",
       "234  Sun, 15 Sep 2024 13:44:52 GMT  feeds  \n",
       "235  Mon, 12 Aug 2024 19:00:06 GMT  feeds  \n",
       "236  Tue, 09 Jul 2024 23:56:16 GMT  feeds  \n",
       "237  Sat, 08 Jun 2024 23:58:01 GMT  feeds  \n",
       "\n",
       "[238 rows x 5 columns]"
      ]
     },
     "execution_count": 30,
     "metadata": {},
     "output_type": "execute_result"
    }
   ],
   "source": [
    "df"
   ]
  },
  {
   "cell_type": "code",
   "execution_count": 56,
   "metadata": {},
   "outputs": [],
   "source": [
    "df=df.drop(['pubDate'],axis=1)"
   ]
  },
  {
   "cell_type": "code",
   "execution_count": 62,
   "metadata": {},
   "outputs": [],
   "source": [
    "# Extract the element after 'https://www.bbc.com/' and before the next '/'\n",
    "df[\"type\"] = df[\"url\"].str.extract(r\"https://www\\.bbc\\.com/news/([^/]+)/\")"
   ]
  },
  {
   "cell_type": "code",
   "execution_count": 63,
   "metadata": {},
   "outputs": [
    {
     "data": {
      "text/html": [
       "<div>\n",
       "<style scoped>\n",
       "    .dataframe tbody tr th:only-of-type {\n",
       "        vertical-align: middle;\n",
       "    }\n",
       "\n",
       "    .dataframe tbody tr th {\n",
       "        vertical-align: top;\n",
       "    }\n",
       "\n",
       "    .dataframe thead th {\n",
       "        text-align: right;\n",
       "    }\n",
       "</style>\n",
       "<table border=\"1\" class=\"dataframe\">\n",
       "  <thead>\n",
       "    <tr style=\"text-align: right;\">\n",
       "      <th></th>\n",
       "      <th>title</th>\n",
       "      <th>description</th>\n",
       "      <th>url</th>\n",
       "      <th>source</th>\n",
       "      <th>type</th>\n",
       "    </tr>\n",
       "  </thead>\n",
       "  <tbody>\n",
       "    <tr>\n",
       "      <th>0</th>\n",
       "      <td>Private sector pay rises drive up UK wage growth</td>\n",
       "      <td>Wage growth increased by 5.6% annually in the ...</td>\n",
       "      <td>https://www.bbc.com/news/articles/c4g372w32vjo</td>\n",
       "      <td>feeds</td>\n",
       "      <td>articles</td>\n",
       "    </tr>\n",
       "    <tr>\n",
       "      <th>1</th>\n",
       "      <td>Delay to TikTok ban gets Trump sign-off</td>\n",
       "      <td>The order was among a slew of directives Trump...</td>\n",
       "      <td>https://www.bbc.com/news/articles/cd0j24rj4ryo</td>\n",
       "      <td>feeds</td>\n",
       "      <td>articles</td>\n",
       "    </tr>\n",
       "    <tr>\n",
       "      <th>2</th>\n",
       "      <td>Stock markets cautious as Trump signals new ta...</td>\n",
       "      <td>The US president said he is considering imposi...</td>\n",
       "      <td>https://www.bbc.com/news/articles/c1ezgdj7wvpo</td>\n",
       "      <td>feeds</td>\n",
       "      <td>articles</td>\n",
       "    </tr>\n",
       "    <tr>\n",
       "      <th>3</th>\n",
       "      <td>Working from home 'not proper work' - ex-Asda ...</td>\n",
       "      <td>Lord Rose says it harms productivity but exper...</td>\n",
       "      <td>https://www.bbc.com/news/articles/c0qww8xdvnwo</td>\n",
       "      <td>feeds</td>\n",
       "      <td>articles</td>\n",
       "    </tr>\n",
       "    <tr>\n",
       "      <th>4</th>\n",
       "      <td>What executive orders did Trump sign on day one?</td>\n",
       "      <td>The Republican quickly set about using his new...</td>\n",
       "      <td>https://www.bbc.com/news/articles/ced961egp65o</td>\n",
       "      <td>feeds</td>\n",
       "      <td>articles</td>\n",
       "    </tr>\n",
       "    <tr>\n",
       "      <th>...</th>\n",
       "      <td>...</td>\n",
       "      <td>...</td>\n",
       "      <td>...</td>\n",
       "      <td>...</td>\n",
       "      <td>...</td>\n",
       "    </tr>\n",
       "    <tr>\n",
       "      <th>233</th>\n",
       "      <td>Joyful welcome by stranded astronauts for Spac...</td>\n",
       "      <td>A capsule sent to bring back two astronauts st...</td>\n",
       "      <td>https://www.bbc.com/news/videos/cly4j5p21z7o</td>\n",
       "      <td>feeds</td>\n",
       "      <td>videos</td>\n",
       "    </tr>\n",
       "    <tr>\n",
       "      <th>234</th>\n",
       "      <td>Astronauts reveal what life is like on ISS – a...</td>\n",
       "      <td>As Suni Williams and Butch Wilmore spend month...</td>\n",
       "      <td>https://www.bbc.com/news/articles/cp3dv0ddwp7o</td>\n",
       "      <td>feeds</td>\n",
       "      <td>articles</td>\n",
       "    </tr>\n",
       "    <tr>\n",
       "      <th>235</th>\n",
       "      <td>Reservoir of liquid water found deep in Martia...</td>\n",
       "      <td>Studies of quakes detected from the planet's s...</td>\n",
       "      <td>https://www.bbc.com/news/articles/czxl849j77ko</td>\n",
       "      <td>feeds</td>\n",
       "      <td>articles</td>\n",
       "    </tr>\n",
       "    <tr>\n",
       "      <th>236</th>\n",
       "      <td>Europe's Ariane-6 rocket blasts off on maiden ...</td>\n",
       "      <td>After a successful launch, the upper-stage of ...</td>\n",
       "      <td>https://www.bbc.com/news/articles/c19km33k1mpo</td>\n",
       "      <td>feeds</td>\n",
       "      <td>articles</td>\n",
       "    </tr>\n",
       "    <tr>\n",
       "      <th>237</th>\n",
       "      <td>Who owns the Moon? A new space race means it c...</td>\n",
       "      <td>A race for the lunar surface's resources is cu...</td>\n",
       "      <td>https://www.bbc.com/news/articles/cxwwjlrk1mlo</td>\n",
       "      <td>feeds</td>\n",
       "      <td>articles</td>\n",
       "    </tr>\n",
       "  </tbody>\n",
       "</table>\n",
       "<p>238 rows × 5 columns</p>\n",
       "</div>"
      ],
      "text/plain": [
       "                                                 title  \\\n",
       "0     Private sector pay rises drive up UK wage growth   \n",
       "1             Delay to TikTok ban gets Trump sign-off    \n",
       "2    Stock markets cautious as Trump signals new ta...   \n",
       "3    Working from home 'not proper work' - ex-Asda ...   \n",
       "4     What executive orders did Trump sign on day one?   \n",
       "..                                                 ...   \n",
       "233  Joyful welcome by stranded astronauts for Spac...   \n",
       "234  Astronauts reveal what life is like on ISS – a...   \n",
       "235  Reservoir of liquid water found deep in Martia...   \n",
       "236  Europe's Ariane-6 rocket blasts off on maiden ...   \n",
       "237  Who owns the Moon? A new space race means it c...   \n",
       "\n",
       "                                           description  \\\n",
       "0    Wage growth increased by 5.6% annually in the ...   \n",
       "1    The order was among a slew of directives Trump...   \n",
       "2    The US president said he is considering imposi...   \n",
       "3    Lord Rose says it harms productivity but exper...   \n",
       "4    The Republican quickly set about using his new...   \n",
       "..                                                 ...   \n",
       "233  A capsule sent to bring back two astronauts st...   \n",
       "234  As Suni Williams and Butch Wilmore spend month...   \n",
       "235  Studies of quakes detected from the planet's s...   \n",
       "236  After a successful launch, the upper-stage of ...   \n",
       "237  A race for the lunar surface's resources is cu...   \n",
       "\n",
       "                                                url source      type  \n",
       "0    https://www.bbc.com/news/articles/c4g372w32vjo  feeds  articles  \n",
       "1    https://www.bbc.com/news/articles/cd0j24rj4ryo  feeds  articles  \n",
       "2    https://www.bbc.com/news/articles/c1ezgdj7wvpo  feeds  articles  \n",
       "3    https://www.bbc.com/news/articles/c0qww8xdvnwo  feeds  articles  \n",
       "4    https://www.bbc.com/news/articles/ced961egp65o  feeds  articles  \n",
       "..                                              ...    ...       ...  \n",
       "233    https://www.bbc.com/news/videos/cly4j5p21z7o  feeds    videos  \n",
       "234  https://www.bbc.com/news/articles/cp3dv0ddwp7o  feeds  articles  \n",
       "235  https://www.bbc.com/news/articles/czxl849j77ko  feeds  articles  \n",
       "236  https://www.bbc.com/news/articles/c19km33k1mpo  feeds  articles  \n",
       "237  https://www.bbc.com/news/articles/cxwwjlrk1mlo  feeds  articles  \n",
       "\n",
       "[238 rows x 5 columns]"
      ]
     },
     "execution_count": 63,
     "metadata": {},
     "output_type": "execute_result"
    }
   ],
   "source": [
    "df"
   ]
  },
  {
   "cell_type": "code",
   "execution_count": 64,
   "metadata": {},
   "outputs": [
    {
     "data": {
      "text/plain": [
       "type\n",
       "articles    197\n",
       "videos       22\n",
       "Name: count, dtype: int64"
      ]
     },
     "execution_count": 64,
     "metadata": {},
     "output_type": "execute_result"
    }
   ],
   "source": [
    "df['type'].value_counts()"
   ]
  },
  {
   "cell_type": "code",
   "execution_count": 65,
   "metadata": {},
   "outputs": [],
   "source": [
    "df=df[df['type']=='articles']"
   ]
  },
  {
   "cell_type": "code",
   "execution_count": 66,
   "metadata": {},
   "outputs": [
    {
     "data": {
      "text/html": [
       "<div>\n",
       "<style scoped>\n",
       "    .dataframe tbody tr th:only-of-type {\n",
       "        vertical-align: middle;\n",
       "    }\n",
       "\n",
       "    .dataframe tbody tr th {\n",
       "        vertical-align: top;\n",
       "    }\n",
       "\n",
       "    .dataframe thead th {\n",
       "        text-align: right;\n",
       "    }\n",
       "</style>\n",
       "<table border=\"1\" class=\"dataframe\">\n",
       "  <thead>\n",
       "    <tr style=\"text-align: right;\">\n",
       "      <th></th>\n",
       "      <th>title</th>\n",
       "      <th>description</th>\n",
       "      <th>url</th>\n",
       "      <th>source</th>\n",
       "      <th>type</th>\n",
       "    </tr>\n",
       "  </thead>\n",
       "  <tbody>\n",
       "    <tr>\n",
       "      <th>0</th>\n",
       "      <td>Private sector pay rises drive up UK wage growth</td>\n",
       "      <td>Wage growth increased by 5.6% annually in the ...</td>\n",
       "      <td>https://www.bbc.com/news/articles/c4g372w32vjo</td>\n",
       "      <td>feeds</td>\n",
       "      <td>articles</td>\n",
       "    </tr>\n",
       "    <tr>\n",
       "      <th>1</th>\n",
       "      <td>Delay to TikTok ban gets Trump sign-off</td>\n",
       "      <td>The order was among a slew of directives Trump...</td>\n",
       "      <td>https://www.bbc.com/news/articles/cd0j24rj4ryo</td>\n",
       "      <td>feeds</td>\n",
       "      <td>articles</td>\n",
       "    </tr>\n",
       "    <tr>\n",
       "      <th>2</th>\n",
       "      <td>Stock markets cautious as Trump signals new ta...</td>\n",
       "      <td>The US president said he is considering imposi...</td>\n",
       "      <td>https://www.bbc.com/news/articles/c1ezgdj7wvpo</td>\n",
       "      <td>feeds</td>\n",
       "      <td>articles</td>\n",
       "    </tr>\n",
       "    <tr>\n",
       "      <th>3</th>\n",
       "      <td>Working from home 'not proper work' - ex-Asda ...</td>\n",
       "      <td>Lord Rose says it harms productivity but exper...</td>\n",
       "      <td>https://www.bbc.com/news/articles/c0qww8xdvnwo</td>\n",
       "      <td>feeds</td>\n",
       "      <td>articles</td>\n",
       "    </tr>\n",
       "    <tr>\n",
       "      <th>4</th>\n",
       "      <td>What executive orders did Trump sign on day one?</td>\n",
       "      <td>The Republican quickly set about using his new...</td>\n",
       "      <td>https://www.bbc.com/news/articles/ced961egp65o</td>\n",
       "      <td>feeds</td>\n",
       "      <td>articles</td>\n",
       "    </tr>\n",
       "    <tr>\n",
       "      <th>...</th>\n",
       "      <td>...</td>\n",
       "      <td>...</td>\n",
       "      <td>...</td>\n",
       "      <td>...</td>\n",
       "      <td>...</td>\n",
       "    </tr>\n",
       "    <tr>\n",
       "      <th>232</th>\n",
       "      <td>What's next for Elon Musk's SpaceX Starship ro...</td>\n",
       "      <td>The world's most powerful rocket is expected t...</td>\n",
       "      <td>https://www.bbc.com/news/articles/cx2lk2mwwnxo</td>\n",
       "      <td>feeds</td>\n",
       "      <td>articles</td>\n",
       "    </tr>\n",
       "    <tr>\n",
       "      <th>234</th>\n",
       "      <td>Astronauts reveal what life is like on ISS – a...</td>\n",
       "      <td>As Suni Williams and Butch Wilmore spend month...</td>\n",
       "      <td>https://www.bbc.com/news/articles/cp3dv0ddwp7o</td>\n",
       "      <td>feeds</td>\n",
       "      <td>articles</td>\n",
       "    </tr>\n",
       "    <tr>\n",
       "      <th>235</th>\n",
       "      <td>Reservoir of liquid water found deep in Martia...</td>\n",
       "      <td>Studies of quakes detected from the planet's s...</td>\n",
       "      <td>https://www.bbc.com/news/articles/czxl849j77ko</td>\n",
       "      <td>feeds</td>\n",
       "      <td>articles</td>\n",
       "    </tr>\n",
       "    <tr>\n",
       "      <th>236</th>\n",
       "      <td>Europe's Ariane-6 rocket blasts off on maiden ...</td>\n",
       "      <td>After a successful launch, the upper-stage of ...</td>\n",
       "      <td>https://www.bbc.com/news/articles/c19km33k1mpo</td>\n",
       "      <td>feeds</td>\n",
       "      <td>articles</td>\n",
       "    </tr>\n",
       "    <tr>\n",
       "      <th>237</th>\n",
       "      <td>Who owns the Moon? A new space race means it c...</td>\n",
       "      <td>A race for the lunar surface's resources is cu...</td>\n",
       "      <td>https://www.bbc.com/news/articles/cxwwjlrk1mlo</td>\n",
       "      <td>feeds</td>\n",
       "      <td>articles</td>\n",
       "    </tr>\n",
       "  </tbody>\n",
       "</table>\n",
       "<p>197 rows × 5 columns</p>\n",
       "</div>"
      ],
      "text/plain": [
       "                                                 title  \\\n",
       "0     Private sector pay rises drive up UK wage growth   \n",
       "1             Delay to TikTok ban gets Trump sign-off    \n",
       "2    Stock markets cautious as Trump signals new ta...   \n",
       "3    Working from home 'not proper work' - ex-Asda ...   \n",
       "4     What executive orders did Trump sign on day one?   \n",
       "..                                                 ...   \n",
       "232  What's next for Elon Musk's SpaceX Starship ro...   \n",
       "234  Astronauts reveal what life is like on ISS – a...   \n",
       "235  Reservoir of liquid water found deep in Martia...   \n",
       "236  Europe's Ariane-6 rocket blasts off on maiden ...   \n",
       "237  Who owns the Moon? A new space race means it c...   \n",
       "\n",
       "                                           description  \\\n",
       "0    Wage growth increased by 5.6% annually in the ...   \n",
       "1    The order was among a slew of directives Trump...   \n",
       "2    The US president said he is considering imposi...   \n",
       "3    Lord Rose says it harms productivity but exper...   \n",
       "4    The Republican quickly set about using his new...   \n",
       "..                                                 ...   \n",
       "232  The world's most powerful rocket is expected t...   \n",
       "234  As Suni Williams and Butch Wilmore spend month...   \n",
       "235  Studies of quakes detected from the planet's s...   \n",
       "236  After a successful launch, the upper-stage of ...   \n",
       "237  A race for the lunar surface's resources is cu...   \n",
       "\n",
       "                                                url source      type  \n",
       "0    https://www.bbc.com/news/articles/c4g372w32vjo  feeds  articles  \n",
       "1    https://www.bbc.com/news/articles/cd0j24rj4ryo  feeds  articles  \n",
       "2    https://www.bbc.com/news/articles/c1ezgdj7wvpo  feeds  articles  \n",
       "3    https://www.bbc.com/news/articles/c0qww8xdvnwo  feeds  articles  \n",
       "4    https://www.bbc.com/news/articles/ced961egp65o  feeds  articles  \n",
       "..                                              ...    ...       ...  \n",
       "232  https://www.bbc.com/news/articles/cx2lk2mwwnxo  feeds  articles  \n",
       "234  https://www.bbc.com/news/articles/cp3dv0ddwp7o  feeds  articles  \n",
       "235  https://www.bbc.com/news/articles/czxl849j77ko  feeds  articles  \n",
       "236  https://www.bbc.com/news/articles/c19km33k1mpo  feeds  articles  \n",
       "237  https://www.bbc.com/news/articles/cxwwjlrk1mlo  feeds  articles  \n",
       "\n",
       "[197 rows x 5 columns]"
      ]
     },
     "execution_count": 66,
     "metadata": {},
     "output_type": "execute_result"
    }
   ],
   "source": [
    "df"
   ]
  },
  {
   "cell_type": "code",
   "execution_count": 67,
   "metadata": {},
   "outputs": [],
   "source": [
    "import requests\n",
    "from bs4 import BeautifulSoup\n",
    "import json\n",
    "\n",
    "class WebPageExtractor:\n",
    "    def __init__(self, url):\n",
    "        self.url = url\n",
    "        self.soup = None\n",
    "        self.json_data = None\n",
    "\n",
    "    def fetch_page(self):\n",
    "        \"\"\"Fetches the web page content and initializes BeautifulSoup.\"\"\"\n",
    "        try:\n",
    "            response = requests.get(self.url)\n",
    "            response.raise_for_status()  # Raise an HTTPError for bad responses\n",
    "            self.soup = BeautifulSoup(response.content, 'html.parser')\n",
    "            print(\"Page fetched successfully.\")\n",
    "        except requests.RequestException as e:\n",
    "            print(f\"Failed to fetch page: {e}\")\n",
    "            self.soup = None\n",
    "\n",
    "    def extract_json_metadata(self):\n",
    "        \"\"\"Extracts JSON metadata from the <script> tag with type 'application/ld+json'.\"\"\"\n",
    "        if self.soup:\n",
    "            script_tag = self.soup.find('script', type='application/ld+json')\n",
    "            if script_tag:\n",
    "                try:\n",
    "                    self.json_data = json.loads(script_tag.string)\n",
    "                    print(\"JSON metadata extracted successfully.\")\n",
    "                except json.JSONDecodeError as e:\n",
    "                    print(f\"Failed to parse JSON metadata: {e}\")\n",
    "                    self.json_data = None\n",
    "            else:\n",
    "                print(\"No JSON metadata found.\")\n",
    "        else:\n",
    "            print(\"Soup object not initialized. Call fetch_page() first.\")\n",
    "\n",
    "    def extract_author(self):\n",
    "        \"\"\"Extracts author(s) from the JSON metadata.\"\"\"\n",
    "        if self.json_data:\n",
    "            author_info = self.json_data.get(\"author\", None)\n",
    "            if author_info:\n",
    "                if isinstance(author_info, list):\n",
    "                    authors = [author.get(\"name\", \"Unknown\") for author in author_info]\n",
    "                else:\n",
    "                    authors = [author_info.get(\"name\", \"Unknown\")]\n",
    "                return authors\n",
    "            else:\n",
    "                return \"No author information found.\"\n",
    "        return \"No JSON metadata found.\"\n",
    "\n",
    "    def extract_date(self):\n",
    "        \"\"\"Extracts the publication date from the JSON metadata.\"\"\"\n",
    "        if self.json_data:\n",
    "            return self.json_data.get(\"datePublished\", \"No publication date found.\")\n",
    "        return \"No JSON metadata found.\"\n",
    "\n",
    "    def extract_headline(self):\n",
    "        \"\"\"Extracts the headline from the JSON metadata.\"\"\"\n",
    "        if self.json_data:\n",
    "            return self.json_data.get(\"headline\", \"No headline found.\")\n",
    "        return \"No JSON metadata found.\"\n",
    "\n",
    "    def extract_content(self):\n",
    "        \"\"\"Extracts the article content from <p> tags.\"\"\"\n",
    "        if self.soup:\n",
    "            paragraphs = self.soup.find_all('p')\n",
    "            article_content = '\\n'.join([p.get_text(strip=True) for p in paragraphs])\n",
    "            return article_content if article_content else \"No content found.\"\n",
    "        return \"Soup object not initialized. Call fetch_page() first.\""
   ]
  },
  {
   "cell_type": "code",
   "execution_count": 68,
   "metadata": {},
   "outputs": [
    {
     "name": "stdout",
     "output_type": "stream",
     "text": [
      "Page fetched successfully.\n",
      "JSON metadata extracted successfully.\n",
      "Author(s): ['Zoe Conway']\n",
      "Date Published: 2025-01-20T05:55:37.409Z\n",
      "Headline: Working from home is 'not proper work', says ex-Asda boss\n",
      "Content: Working from home is creating a generation who are \"not doing proper work\", the former boss of Marks and Spencer and Asda has warned.\n",
      "Lord Rose told BBC Panorama that home working was part of the UK economy's \"general decline\" and employees' productivity was suffering.\n",
      "His comments come as some companies are calling time on remote working. Amazon, Boots and JP Morgan are just some of the businesses who now require their head office staff to be in every day.\n",
      "However, work-from-home expert Prof Nicholas Bloom said that while fully remote work can be \"quite damaging\" to some workers' productivity, spending three days out of five in the office was as productive as fully office-based work overall.\n",
      "Lord Rose, who was chief executive of M&S and recently stepped down as the chairman of Asda, said: \"We have regressed in this country in terms of working practices, productivity and in terms of the country's wellbeing, I think, by 20 years in the last four.\"\n",
      "In a November 2024 GB snapshot survey by the Office for National Statistics, 26% of people said they had been hybrid-working in the prior seven days, with some days in the workplace and some days at home - while 14% had been fully remote and 41% had commuted to their workplace every day (the remainder were not working in the week surveyed).\n",
      "The shift to working from home has transformed local economies. Industry estimates indicate that vacant office space has nearly doubled since the pandemic, a quarter of dry-cleaning businesses have shut down, and the number of golf games played during the working week has risen 350% - suggesting some people are mixing work and pleasure.\n",
      "Working from home is rapidly becoming a major battleground in the culture wars. The government is currently legislating to strengthen the right of employees across the UK to request working from home and says that it intends to make it harder for employers to turn down requests.\n",
      "But some employers - including government bodies - are battling with staff to get them back into the office, arguing that face-to-face interaction is essential to collaborative working.\n",
      "In some cases, such as independent record label Hospital Records, this requires negotiation between a young workforce - some of whom may never have worked full-time in an office - and their older bosses.\n",
      "Company founder Chris Goss, who introduced a new policy requiring staff work three days in the office rather than two, said he had \"a nagging feeling\" that remote working has affected the company's bottom line.\n",
      "\"I firmly believe that the music industry is all about relationships, and so the one single way for any of us to be able to build those kind of meaningful relationships is to do it in person.\"\n",
      "Maya, a 25-year-old marketing manager at the company, said she likes being around her more experienced colleagues in the workplace. \"There's a lot of people in my team that are a lot further along in their career, so if I need help with something, you know, I can just ask someone.\"\n",
      "But she believes she would not be able to be in the office five days a week \"because my social battery drains and I need sometimes to be just at home and just to smash out loads of admin\".\n",
      "Prof Bloom, a Stanford University economist, said his research into working from home suggests employees in their teens and early 20s should probably be in the office at least four days a week to maximise their opportunities for being mentored.\n",
      "However, he said polls of tens of thousands of employees in the UK, US and Europe suggest workers valued the ability to work from home for two days a week about as much as an 8% pay rise.\n",
      "Employment rights minister Justin Madders told Panorama there was a growing body of evidence that working from home was more productive. He also said it was good for growth because companies will have \"a much more motivated workforce\" and \"if we're able to get more people into work because flexibility is available for them, that will help us reach our growth ambitions\".\n",
      "Prof Bloom may not be as optimistic about the effect hybrid working has on productivity, but he does agree that increasing the number of roles which can be done from home could help with economic growth if it encourages more people back into work, such as those with caring responsibilities.\n",
      "\"That is a huge boost\" and \"kind of a win, win, win\", because people would be able to work in better conditions, contribute to tax revenue and \"everyone gains\".\n",
      "One of the people who could benefit is Harleen, who was made redundant after she had her second child and has been unable to return to work because she cannot find a fully remote role that fits around her autistic son's routine.\n",
      "\"I am not seeing those jobs advertised. I'm not seeing anything that caters to that flexibility,\" she said.\n",
      "\"Every day I wake up and I'm thinking I'm living in Groundhog Day. All I'm doing is being a mother. I enjoy being a mum, but I want productivity. I start to feel like I'm just being brain dead.\"\n",
      "In the public sector, productivity is the lowest it has been since 1997 - except for the pandemic lockdown years - and some blame working from home. Since November 2023, civil servants have been called back in for between two to three days a week.\n",
      "But in several public bodies, including at the Office for National Statistics (ONS) in Newport, South Wales, some staff are refusing to return.\n",
      "Ed, an IT delivery manager at the ONS and a rep for the PCS trade union, said he has worked almost entirely from home since the pandemic. He says it helps him to get his children to school and nursery and not waste time on commuting.\n",
      "\"We've never been told by senior leaders at the ONS that there is a problem with productivity, there's a problem with quality, there's a problem with meeting deadlines,\" he said.\n",
      "\"We will never see this opportunity again. We have to fight for workers' rights.\"\n",
      "He and other union members are threatening to strike if they are forced to travel into the office 40% of the time. Civilian staff in the Metropolitan Police and union members at the Land Registry are also in dispute over policies on returning to the office.\n",
      "The ONS, which is in talks with the union, says it believes \"face-to-face interaction\" helps to \"build working relationships, supports collaboration, and innovation\".\n",
      "But whatever the outcome of disputes such as this, it is clear that all of us working full-time in the office is now a thing of the past.\n",
      "Copyright 2025 BBC. All rights reserved.TheBBCisnot responsible for the content of external sites.Read about our approach to external linking.\n",
      "\n",
      "Date: 2025-01-20T05:55:37.409Z\n"
     ]
    }
   ],
   "source": [
    "url = df.at[3, 'url']\n",
    "\n",
    "extractor = WebPageExtractor(url)\n",
    "\n",
    "extractor.fetch_page()\n",
    "extractor.extract_json_metadata()\n",
    "\n",
    "print(\"Author(s):\", extractor.extract_author())\n",
    "print(\"Date Published:\", extractor.extract_date())\n",
    "print(\"Headline:\", extractor.extract_headline())\n",
    "print(\"Content:\", extractor.extract_content())\n",
    "print(\"Date:\",extractor.extract_date())"
   ]
  },
  {
   "cell_type": "code",
   "execution_count": 69,
   "metadata": {},
   "outputs": [],
   "source": [
    "import pandas as pd\n",
    "\n",
    "# Function to extract webpage information and populate DataFrame columns\n",
    "def extract_webpage_info(row):\n",
    "    url = row['url']\n",
    "    extractor = WebPageExtractor(url)\n",
    "    \n",
    "    # Fetch page and extract metadata\n",
    "    try:\n",
    "        extractor.fetch_page()\n",
    "        extractor.extract_json_metadata()\n",
    "        return {\n",
    "            'Author': extractor.extract_author(),\n",
    "            'Date Published': extractor.extract_date(),\n",
    "            'Headline': extractor.extract_headline(),\n",
    "            'Content': extractor.extract_content(),\n",
    "        }\n",
    "    except Exception as e:\n",
    "        print(f\"Error processing URL {url}: {e}\")\n",
    "        return {\n",
    "            'Author': None,\n",
    "            'Date Published': None,\n",
    "            'Headline': None,\n",
    "            'Content': None,\n",
    "        }"
   ]
  },
  {
   "cell_type": "code",
   "execution_count": 70,
   "metadata": {},
   "outputs": [
    {
     "data": {
      "text/plain": [
       "'https://www.bbc.com/news/articles/c0qww8xdvnwo'"
      ]
     },
     "execution_count": 70,
     "metadata": {},
     "output_type": "execute_result"
    }
   ],
   "source": [
    "url "
   ]
  },
  {
   "cell_type": "code",
   "execution_count": 71,
   "metadata": {},
   "outputs": [
    {
     "name": "stderr",
     "output_type": "stream",
     "text": [
      "  2%|▏         | 4/197 [00:00<00:13, 13.86it/s]"
     ]
    },
    {
     "name": "stdout",
     "output_type": "stream",
     "text": [
      "Page fetched successfully.\n",
      "JSON metadata extracted successfully.\n",
      "Page fetched successfully.\n",
      "JSON metadata extracted successfully.\n",
      "Page fetched successfully.\n",
      "JSON metadata extracted successfully.\n",
      "Page fetched successfully.\n",
      "JSON metadata extracted successfully.\n",
      "Page fetched successfully.\n",
      "JSON metadata extracted successfully.\n"
     ]
    },
    {
     "name": "stderr",
     "output_type": "stream",
     "text": [
      "  4%|▍         | 8/197 [00:00<00:18, 10.44it/s]"
     ]
    },
    {
     "name": "stdout",
     "output_type": "stream",
     "text": [
      "Page fetched successfully.\n",
      "JSON metadata extracted successfully.\n",
      "Page fetched successfully.\n",
      "JSON metadata extracted successfully.\n",
      "Page fetched successfully.\n",
      "JSON metadata extracted successfully.\n",
      "Page fetched successfully.\n"
     ]
    },
    {
     "name": "stderr",
     "output_type": "stream",
     "text": [
      "  5%|▌         | 10/197 [00:00<00:16, 11.26it/s]"
     ]
    },
    {
     "name": "stdout",
     "output_type": "stream",
     "text": [
      "JSON metadata extracted successfully.\n",
      "Page fetched successfully.\n",
      "JSON metadata extracted successfully.\n",
      "Page fetched successfully.\n",
      "JSON metadata extracted successfully.\n"
     ]
    },
    {
     "name": "stderr",
     "output_type": "stream",
     "text": [
      "  7%|▋         | 14/197 [00:01<00:15, 11.60it/s]"
     ]
    },
    {
     "name": "stdout",
     "output_type": "stream",
     "text": [
      "Page fetched successfully.\n",
      "JSON metadata extracted successfully.\n",
      "Page fetched successfully.\n",
      "JSON metadata extracted successfully.\n",
      "Page fetched successfully.\n",
      "JSON metadata extracted successfully.\n"
     ]
    },
    {
     "name": "stderr",
     "output_type": "stream",
     "text": [
      "  8%|▊         | 16/197 [00:01<00:18,  9.95it/s]"
     ]
    },
    {
     "name": "stdout",
     "output_type": "stream",
     "text": [
      "Page fetched successfully.\n",
      "JSON metadata extracted successfully.\n",
      "Page fetched successfully.\n",
      "JSON metadata extracted successfully.\n",
      "Page fetched successfully.\n"
     ]
    },
    {
     "name": "stderr",
     "output_type": "stream",
     "text": [
      "  9%|▉         | 18/197 [00:01<00:17,  9.97it/s]"
     ]
    },
    {
     "name": "stdout",
     "output_type": "stream",
     "text": [
      "JSON metadata extracted successfully.\n",
      "Page fetched successfully.\n",
      "JSON metadata extracted successfully.\n",
      "Page fetched successfully.\n"
     ]
    },
    {
     "name": "stderr",
     "output_type": "stream",
     "text": [
      " 11%|█         | 21/197 [00:02<00:18,  9.28it/s]"
     ]
    },
    {
     "name": "stdout",
     "output_type": "stream",
     "text": [
      "JSON metadata extracted successfully.\n",
      "Page fetched successfully.\n",
      "JSON metadata extracted successfully.\n"
     ]
    },
    {
     "name": "stderr",
     "output_type": "stream",
     "text": [
      " 12%|█▏        | 23/197 [00:02<00:19,  8.77it/s]"
     ]
    },
    {
     "name": "stdout",
     "output_type": "stream",
     "text": [
      "Page fetched successfully.\n",
      "JSON metadata extracted successfully.\n",
      "Page fetched successfully.\n",
      "JSON metadata extracted successfully.\n"
     ]
    },
    {
     "name": "stderr",
     "output_type": "stream",
     "text": [
      " 12%|█▏        | 24/197 [00:02<00:20,  8.62it/s]"
     ]
    },
    {
     "name": "stdout",
     "output_type": "stream",
     "text": [
      "Page fetched successfully.\n",
      "JSON metadata extracted successfully.\n",
      "Page fetched successfully.\n",
      "JSON metadata extracted successfully.\n"
     ]
    },
    {
     "name": "stderr",
     "output_type": "stream",
     "text": [
      " 14%|█▎        | 27/197 [00:02<00:21,  8.03it/s]"
     ]
    },
    {
     "name": "stdout",
     "output_type": "stream",
     "text": [
      "Page fetched successfully.\n",
      "JSON metadata extracted successfully.\n",
      "Page fetched successfully.\n",
      "JSON metadata extracted successfully.\n",
      "Page fetched successfully.\n",
      "JSON metadata extracted successfully.\n"
     ]
    },
    {
     "name": "stderr",
     "output_type": "stream",
     "text": [
      " 16%|█▌        | 31/197 [00:03<00:18,  8.98it/s]"
     ]
    },
    {
     "name": "stdout",
     "output_type": "stream",
     "text": [
      "Page fetched successfully.\n",
      "JSON metadata extracted successfully.\n",
      "Page fetched successfully.\n",
      "JSON metadata extracted successfully.\n",
      "Page fetched successfully.\n",
      "JSON metadata extracted successfully.\n"
     ]
    },
    {
     "name": "stderr",
     "output_type": "stream",
     "text": [
      " 16%|█▌        | 32/197 [00:03<00:18,  9.01it/s]"
     ]
    },
    {
     "name": "stdout",
     "output_type": "stream",
     "text": [
      "Page fetched successfully.\n",
      "JSON metadata extracted successfully.\n"
     ]
    },
    {
     "name": "stderr",
     "output_type": "stream",
     "text": [
      " 18%|█▊        | 35/197 [00:03<00:18,  8.94it/s]"
     ]
    },
    {
     "name": "stdout",
     "output_type": "stream",
     "text": [
      "Page fetched successfully.\n",
      "JSON metadata extracted successfully.\n",
      "Page fetched successfully.\n",
      "JSON metadata extracted successfully.\n",
      "Page fetched successfully.\n",
      "JSON metadata extracted successfully.\n"
     ]
    },
    {
     "name": "stderr",
     "output_type": "stream",
     "text": [
      " 19%|█▉        | 37/197 [00:03<00:16,  9.50it/s]"
     ]
    },
    {
     "name": "stdout",
     "output_type": "stream",
     "text": [
      "Page fetched successfully.\n",
      "JSON metadata extracted successfully.\n",
      "Page fetched successfully.\n",
      "JSON metadata extracted successfully.\n",
      "Page fetched successfully.\n",
      "JSON metadata extracted successfully.\n",
      "Page fetched successfully.\n"
     ]
    },
    {
     "name": "stderr",
     "output_type": "stream",
     "text": [
      " 21%|██        | 41/197 [00:04<00:13, 11.50it/s]"
     ]
    },
    {
     "name": "stdout",
     "output_type": "stream",
     "text": [
      "JSON metadata extracted successfully.\n",
      "Page fetched successfully.\n",
      "JSON metadata extracted successfully.\n",
      "Page fetched successfully.\n",
      "JSON metadata extracted successfully.\n"
     ]
    },
    {
     "name": "stderr",
     "output_type": "stream",
     "text": [
      " 22%|██▏       | 43/197 [00:04<00:12, 12.04it/s]"
     ]
    },
    {
     "name": "stdout",
     "output_type": "stream",
     "text": [
      "Page fetched successfully.\n",
      "JSON metadata extracted successfully.\n",
      "Page fetched successfully.\n",
      "JSON metadata extracted successfully.\n",
      "Page fetched successfully.\n",
      "JSON metadata extracted successfully.\n"
     ]
    },
    {
     "name": "stderr",
     "output_type": "stream",
     "text": [
      " 24%|██▍       | 47/197 [00:04<00:11, 12.77it/s]"
     ]
    },
    {
     "name": "stdout",
     "output_type": "stream",
     "text": [
      "Page fetched successfully.\n",
      "JSON metadata extracted successfully.\n",
      "Page fetched successfully.\n",
      "JSON metadata extracted successfully.\n",
      "Page fetched successfully.\n",
      "JSON metadata extracted successfully.\n",
      "Page fetched successfully.\n"
     ]
    },
    {
     "name": "stderr",
     "output_type": "stream",
     "text": [
      " 25%|██▍       | 49/197 [00:04<00:11, 12.99it/s]"
     ]
    },
    {
     "name": "stdout",
     "output_type": "stream",
     "text": [
      "JSON metadata extracted successfully.\n",
      "Page fetched successfully.\n",
      "JSON metadata extracted successfully.\n",
      "Page fetched successfully.\n",
      "JSON metadata extracted successfully.\n",
      "Page fetched successfully.\n",
      "JSON metadata extracted successfully.\n"
     ]
    },
    {
     "name": "stderr",
     "output_type": "stream",
     "text": [
      " 27%|██▋       | 53/197 [00:05<00:18,  7.70it/s]"
     ]
    },
    {
     "name": "stdout",
     "output_type": "stream",
     "text": [
      "Page fetched successfully.\n",
      "JSON metadata extracted successfully.\n",
      "Page fetched successfully.\n",
      "JSON metadata extracted successfully.\n",
      "Page fetched successfully.\n",
      "JSON metadata extracted successfully.\n"
     ]
    },
    {
     "name": "stderr",
     "output_type": "stream",
     "text": [
      " 28%|██▊       | 55/197 [00:05<00:18,  7.56it/s]"
     ]
    },
    {
     "name": "stdout",
     "output_type": "stream",
     "text": [
      "Page fetched successfully.\n",
      "JSON metadata extracted successfully.\n"
     ]
    },
    {
     "name": "stderr",
     "output_type": "stream",
     "text": [
      " 29%|██▉       | 58/197 [00:06<00:23,  5.96it/s]"
     ]
    },
    {
     "name": "stdout",
     "output_type": "stream",
     "text": [
      "Page fetched successfully.\n",
      "JSON metadata extracted successfully.\n",
      "Page fetched successfully.\n",
      "JSON metadata extracted successfully.\n",
      "Page fetched successfully.\n",
      "JSON metadata extracted successfully.\n",
      "Page fetched successfully.\n"
     ]
    },
    {
     "name": "stderr",
     "output_type": "stream",
     "text": [
      " 30%|███       | 60/197 [00:06<00:18,  7.27it/s]"
     ]
    },
    {
     "name": "stdout",
     "output_type": "stream",
     "text": [
      "JSON metadata extracted successfully.\n",
      "Page fetched successfully.\n",
      "JSON metadata extracted successfully.\n",
      "Page fetched successfully.\n",
      "JSON metadata extracted successfully.\n"
     ]
    },
    {
     "name": "stderr",
     "output_type": "stream",
     "text": [
      " 31%|███▏      | 62/197 [00:06<00:17,  7.77it/s]"
     ]
    },
    {
     "name": "stdout",
     "output_type": "stream",
     "text": [
      "Page fetched successfully.\n",
      "JSON metadata extracted successfully.\n",
      "Page fetched successfully.\n",
      "JSON metadata extracted successfully.\n"
     ]
    },
    {
     "name": "stderr",
     "output_type": "stream",
     "text": [
      " 32%|███▏      | 64/197 [00:07<00:16,  7.87it/s]"
     ]
    },
    {
     "name": "stdout",
     "output_type": "stream",
     "text": [
      "Page fetched successfully.\n",
      "JSON metadata extracted successfully.\n",
      "Page fetched successfully.\n",
      "JSON metadata extracted successfully.\n",
      "Page fetched successfully.\n",
      "JSON metadata extracted successfully.\n"
     ]
    },
    {
     "name": "stderr",
     "output_type": "stream",
     "text": [
      " 35%|███▍      | 68/197 [00:07<00:16,  7.88it/s]"
     ]
    },
    {
     "name": "stdout",
     "output_type": "stream",
     "text": [
      "Page fetched successfully.\n",
      "JSON metadata extracted successfully.\n",
      "Page fetched successfully.\n",
      "JSON metadata extracted successfully.\n"
     ]
    },
    {
     "name": "stderr",
     "output_type": "stream",
     "text": [
      " 36%|███▌      | 70/197 [00:07<00:14,  9.02it/s]"
     ]
    },
    {
     "name": "stdout",
     "output_type": "stream",
     "text": [
      "Page fetched successfully.\n",
      "JSON metadata extracted successfully.\n",
      "Page fetched successfully.\n",
      "JSON metadata extracted successfully.\n",
      "Page fetched successfully.\n",
      "JSON metadata extracted successfully.\n",
      "Page fetched successfully.\n"
     ]
    },
    {
     "name": "stderr",
     "output_type": "stream",
     "text": [
      " 37%|███▋      | 72/197 [00:07<00:11, 10.50it/s]"
     ]
    },
    {
     "name": "stdout",
     "output_type": "stream",
     "text": [
      "JSON metadata extracted successfully.\n",
      "Page fetched successfully.\n",
      "JSON metadata extracted successfully.\n",
      "Page fetched successfully.\n",
      "JSON metadata extracted successfully.\n"
     ]
    },
    {
     "name": "stderr",
     "output_type": "stream",
     "text": [
      " 39%|███▊      | 76/197 [00:08<00:11, 10.93it/s]"
     ]
    },
    {
     "name": "stdout",
     "output_type": "stream",
     "text": [
      "Page fetched successfully.\n",
      "JSON metadata extracted successfully.\n",
      "Page fetched successfully.\n",
      "JSON metadata extracted successfully.\n",
      "Page fetched successfully.\n",
      "JSON metadata extracted successfully.\n"
     ]
    },
    {
     "name": "stderr",
     "output_type": "stream",
     "text": [
      " 40%|███▉      | 78/197 [00:08<00:10, 11.05it/s]"
     ]
    },
    {
     "name": "stdout",
     "output_type": "stream",
     "text": [
      "Page fetched successfully.\n",
      "JSON metadata extracted successfully.\n",
      "Page fetched successfully.\n",
      "JSON metadata extracted successfully.\n"
     ]
    },
    {
     "name": "stderr",
     "output_type": "stream",
     "text": [
      " 41%|████      | 80/197 [00:08<00:11, 10.32it/s]"
     ]
    },
    {
     "name": "stdout",
     "output_type": "stream",
     "text": [
      "Page fetched successfully.\n",
      "JSON metadata extracted successfully.\n",
      "Page fetched successfully.\n",
      "JSON metadata extracted successfully.\n"
     ]
    },
    {
     "name": "stderr",
     "output_type": "stream",
     "text": [
      " 42%|████▏     | 83/197 [00:09<00:13,  8.53it/s]"
     ]
    },
    {
     "name": "stdout",
     "output_type": "stream",
     "text": [
      "Page fetched successfully.\n",
      "JSON metadata extracted successfully.\n",
      "Page fetched successfully.\n",
      "JSON metadata extracted successfully.\n",
      "Page fetched successfully.\n",
      "JSON metadata extracted successfully.\n"
     ]
    },
    {
     "name": "stderr",
     "output_type": "stream",
     "text": [
      " 43%|████▎     | 85/197 [00:09<00:12,  9.02it/s]"
     ]
    },
    {
     "name": "stdout",
     "output_type": "stream",
     "text": [
      "Page fetched successfully.\n",
      "JSON metadata extracted successfully.\n",
      "Page fetched successfully.\n",
      "JSON metadata extracted successfully.\n"
     ]
    },
    {
     "name": "stderr",
     "output_type": "stream",
     "text": [
      " 45%|████▌     | 89/197 [00:09<00:10,  9.95it/s]"
     ]
    },
    {
     "name": "stdout",
     "output_type": "stream",
     "text": [
      "Page fetched successfully.\n",
      "JSON metadata extracted successfully.\n",
      "Page fetched successfully.\n",
      "JSON metadata extracted successfully.\n",
      "Page fetched successfully.\n",
      "JSON metadata extracted successfully.\n"
     ]
    },
    {
     "name": "stderr",
     "output_type": "stream",
     "text": [
      " 46%|████▌     | 91/197 [00:09<00:10,  9.78it/s]"
     ]
    },
    {
     "name": "stdout",
     "output_type": "stream",
     "text": [
      "Page fetched successfully.\n",
      "JSON metadata extracted successfully.\n",
      "Page fetched successfully.\n",
      "JSON metadata extracted successfully.\n"
     ]
    },
    {
     "name": "stderr",
     "output_type": "stream",
     "text": [
      " 47%|████▋     | 93/197 [00:10<00:12,  8.19it/s]"
     ]
    },
    {
     "name": "stdout",
     "output_type": "stream",
     "text": [
      "Page fetched successfully.\n",
      "JSON metadata extracted successfully.\n",
      "Page fetched successfully.\n",
      "JSON metadata extracted successfully.\n"
     ]
    },
    {
     "name": "stderr",
     "output_type": "stream",
     "text": [
      " 48%|████▊     | 95/197 [00:10<00:14,  7.06it/s]"
     ]
    },
    {
     "name": "stdout",
     "output_type": "stream",
     "text": [
      "Page fetched successfully.\n",
      "JSON metadata extracted successfully.\n",
      "Page fetched successfully.\n",
      "JSON metadata extracted successfully.\n"
     ]
    },
    {
     "name": "stderr",
     "output_type": "stream",
     "text": [
      " 49%|████▉     | 97/197 [00:10<00:14,  6.95it/s]"
     ]
    },
    {
     "name": "stdout",
     "output_type": "stream",
     "text": [
      "Page fetched successfully.\n",
      "JSON metadata extracted successfully.\n",
      "Page fetched successfully.\n",
      "JSON metadata extracted successfully.\n",
      "Page fetched successfully.\n",
      "JSON metadata extracted successfully.\n"
     ]
    },
    {
     "name": "stderr",
     "output_type": "stream",
     "text": [
      " 51%|█████▏    | 101/197 [00:11<00:12,  7.63it/s]"
     ]
    },
    {
     "name": "stdout",
     "output_type": "stream",
     "text": [
      "Page fetched successfully.\n",
      "JSON metadata extracted successfully.\n",
      "Page fetched successfully.\n",
      "JSON metadata extracted successfully.\n",
      "Page fetched successfully.\n",
      "JSON metadata extracted successfully.\n"
     ]
    },
    {
     "name": "stderr",
     "output_type": "stream",
     "text": [
      " 53%|█████▎    | 104/197 [00:13<00:25,  3.61it/s]"
     ]
    },
    {
     "name": "stdout",
     "output_type": "stream",
     "text": [
      "Page fetched successfully.\n",
      "JSON metadata extracted successfully.\n",
      "Page fetched successfully.\n",
      "JSON metadata extracted successfully.\n",
      "Page fetched successfully.\n",
      "JSON metadata extracted successfully.\n",
      "Page fetched successfully.\n",
      "JSON metadata extracted successfully.\n"
     ]
    },
    {
     "name": "stderr",
     "output_type": "stream",
     "text": [
      " 55%|█████▍    | 108/197 [00:13<00:14,  6.15it/s]"
     ]
    },
    {
     "name": "stdout",
     "output_type": "stream",
     "text": [
      "Page fetched successfully.\n",
      "JSON metadata extracted successfully.\n",
      "Page fetched successfully.\n",
      "JSON metadata extracted successfully.\n",
      "Page fetched successfully.\n",
      "JSON metadata extracted successfully.\n",
      "Page fetched successfully.\n",
      "JSON metadata extracted successfully.\n"
     ]
    },
    {
     "name": "stderr",
     "output_type": "stream",
     "text": [
      " 57%|█████▋    | 112/197 [00:13<00:09,  8.76it/s]"
     ]
    },
    {
     "name": "stdout",
     "output_type": "stream",
     "text": [
      "Page fetched successfully.\n",
      "JSON metadata extracted successfully.\n",
      "Page fetched successfully.\n",
      "JSON metadata extracted successfully.\n",
      "Page fetched successfully.\n",
      "JSON metadata extracted successfully.\n"
     ]
    },
    {
     "name": "stderr",
     "output_type": "stream",
     "text": [
      " 58%|█████▊    | 114/197 [00:13<00:08,  9.64it/s]"
     ]
    },
    {
     "name": "stdout",
     "output_type": "stream",
     "text": [
      "Page fetched successfully.\n",
      "JSON metadata extracted successfully.\n",
      "Page fetched successfully.\n",
      "JSON metadata extracted successfully.\n",
      "Page fetched successfully.\n",
      "JSON metadata extracted successfully.\n",
      "Page fetched successfully.\n"
     ]
    },
    {
     "name": "stderr",
     "output_type": "stream",
     "text": [
      " 59%|█████▉    | 116/197 [00:13<00:07, 11.00it/s]"
     ]
    },
    {
     "name": "stdout",
     "output_type": "stream",
     "text": [
      "JSON metadata extracted successfully.\n",
      "Page fetched successfully.\n",
      "JSON metadata extracted successfully.\n"
     ]
    },
    {
     "name": "stderr",
     "output_type": "stream",
     "text": [
      " 61%|██████    | 120/197 [00:14<00:06, 11.02it/s]"
     ]
    },
    {
     "name": "stdout",
     "output_type": "stream",
     "text": [
      "Page fetched successfully.\n",
      "JSON metadata extracted successfully.\n",
      "Page fetched successfully.\n",
      "JSON metadata extracted successfully.\n",
      "Page fetched successfully.\n",
      "JSON metadata extracted successfully.\n",
      "Page fetched successfully.\n",
      "JSON metadata extracted successfully.\n"
     ]
    },
    {
     "name": "stderr",
     "output_type": "stream",
     "text": [
      " 63%|██████▎   | 124/197 [00:14<00:06, 12.14it/s]"
     ]
    },
    {
     "name": "stdout",
     "output_type": "stream",
     "text": [
      "Page fetched successfully.\n",
      "JSON metadata extracted successfully.\n",
      "Page fetched successfully.\n",
      "JSON metadata extracted successfully.\n",
      "Page fetched successfully.\n",
      "JSON metadata extracted successfully.\n",
      "Page fetched successfully.\n",
      "JSON metadata extracted successfully.\n"
     ]
    },
    {
     "name": "stderr",
     "output_type": "stream",
     "text": [
      " 65%|██████▍   | 128/197 [00:14<00:05, 13.01it/s]"
     ]
    },
    {
     "name": "stdout",
     "output_type": "stream",
     "text": [
      "Page fetched successfully.\n",
      "JSON metadata extracted successfully.\n",
      "Page fetched successfully.\n",
      "JSON metadata extracted successfully.\n",
      "Page fetched successfully.\n",
      "JSON metadata extracted successfully.\n"
     ]
    },
    {
     "name": "stderr",
     "output_type": "stream",
     "text": [
      " 66%|██████▌   | 130/197 [00:15<00:05, 13.08it/s]"
     ]
    },
    {
     "name": "stdout",
     "output_type": "stream",
     "text": [
      "Page fetched successfully.\n",
      "JSON metadata extracted successfully.\n",
      "Page fetched successfully.\n",
      "JSON metadata extracted successfully.\n",
      "Page fetched successfully.\n",
      "JSON metadata extracted successfully.\n"
     ]
    },
    {
     "name": "stderr",
     "output_type": "stream",
     "text": [
      " 68%|██████▊   | 134/197 [00:15<00:04, 12.66it/s]"
     ]
    },
    {
     "name": "stdout",
     "output_type": "stream",
     "text": [
      "Page fetched successfully.\n",
      "JSON metadata extracted successfully.\n",
      "Page fetched successfully.\n",
      "JSON metadata extracted successfully.\n",
      "Page fetched successfully.\n",
      "JSON metadata extracted successfully.\n"
     ]
    },
    {
     "name": "stderr",
     "output_type": "stream",
     "text": [
      " 70%|███████   | 138/197 [00:15<00:05, 11.79it/s]"
     ]
    },
    {
     "name": "stdout",
     "output_type": "stream",
     "text": [
      "Page fetched successfully.\n",
      "JSON metadata extracted successfully.\n",
      "Page fetched successfully.\n",
      "JSON metadata extracted successfully.\n",
      "Page fetched successfully.\n",
      "JSON metadata extracted successfully.\n",
      "Page fetched successfully.\n",
      "JSON metadata extracted successfully.\n"
     ]
    },
    {
     "name": "stderr",
     "output_type": "stream",
     "text": [
      " 71%|███████   | 140/197 [00:15<00:04, 12.15it/s]"
     ]
    },
    {
     "name": "stdout",
     "output_type": "stream",
     "text": [
      "Page fetched successfully.\n",
      "JSON metadata extracted successfully.\n",
      "Page fetched successfully.\n",
      "JSON metadata extracted successfully.\n",
      "Page fetched successfully.\n",
      "JSON metadata extracted successfully.\n"
     ]
    },
    {
     "name": "stderr",
     "output_type": "stream",
     "text": [
      " 73%|███████▎  | 144/197 [00:16<00:04, 12.97it/s]"
     ]
    },
    {
     "name": "stdout",
     "output_type": "stream",
     "text": [
      "Page fetched successfully.\n",
      "JSON metadata extracted successfully.\n",
      "Page fetched successfully.\n",
      "JSON metadata extracted successfully.\n",
      "Page fetched successfully.\n",
      "JSON metadata extracted successfully.\n",
      "Page fetched successfully.\n",
      "JSON metadata extracted successfully.\n"
     ]
    },
    {
     "name": "stderr",
     "output_type": "stream",
     "text": [
      " 74%|███████▍  | 146/197 [00:16<00:03, 12.85it/s]"
     ]
    },
    {
     "name": "stdout",
     "output_type": "stream",
     "text": [
      "Page fetched successfully.\n",
      "JSON metadata extracted successfully.\n",
      "Page fetched successfully.\n",
      "JSON metadata extracted successfully.\n",
      "Page fetched successfully.\n",
      "JSON metadata extracted successfully.\n"
     ]
    },
    {
     "name": "stderr",
     "output_type": "stream",
     "text": [
      " 76%|███████▌  | 150/197 [00:16<00:03, 12.79it/s]"
     ]
    },
    {
     "name": "stdout",
     "output_type": "stream",
     "text": [
      "Page fetched successfully.\n",
      "JSON metadata extracted successfully.\n",
      "Page fetched successfully.\n",
      "JSON metadata extracted successfully.\n"
     ]
    },
    {
     "name": "stderr",
     "output_type": "stream",
     "text": [
      " 77%|███████▋  | 152/197 [00:16<00:04, 11.03it/s]"
     ]
    },
    {
     "name": "stdout",
     "output_type": "stream",
     "text": [
      "Page fetched successfully.\n",
      "JSON metadata extracted successfully.\n",
      "Page fetched successfully.\n",
      "JSON metadata extracted successfully.\n",
      "Page fetched successfully.\n",
      "JSON metadata extracted successfully.\n"
     ]
    },
    {
     "name": "stderr",
     "output_type": "stream",
     "text": [
      " 79%|███████▉  | 156/197 [00:17<00:03, 11.70it/s]"
     ]
    },
    {
     "name": "stdout",
     "output_type": "stream",
     "text": [
      "Page fetched successfully.\n",
      "JSON metadata extracted successfully.\n",
      "Page fetched successfully.\n",
      "JSON metadata extracted successfully.\n",
      "Page fetched successfully.\n",
      "JSON metadata extracted successfully.\n"
     ]
    },
    {
     "name": "stderr",
     "output_type": "stream",
     "text": [
      " 80%|████████  | 158/197 [00:17<00:03, 12.49it/s]"
     ]
    },
    {
     "name": "stdout",
     "output_type": "stream",
     "text": [
      "Page fetched successfully.\n",
      "JSON metadata extracted successfully.\n",
      "Page fetched successfully.\n",
      "JSON metadata extracted successfully.\n",
      "Page fetched successfully.\n",
      "JSON metadata extracted successfully.\n"
     ]
    },
    {
     "name": "stderr",
     "output_type": "stream",
     "text": [
      " 82%|████████▏ | 162/197 [00:17<00:02, 11.71it/s]"
     ]
    },
    {
     "name": "stdout",
     "output_type": "stream",
     "text": [
      "Page fetched successfully.\n",
      "JSON metadata extracted successfully.\n",
      "Page fetched successfully.\n",
      "JSON metadata extracted successfully.\n",
      "Page fetched successfully.\n",
      "JSON metadata extracted successfully.\n",
      "Page fetched successfully.\n"
     ]
    },
    {
     "name": "stderr",
     "output_type": "stream",
     "text": [
      " 83%|████████▎ | 164/197 [00:17<00:02, 12.09it/s]"
     ]
    },
    {
     "name": "stdout",
     "output_type": "stream",
     "text": [
      "JSON metadata extracted successfully.\n",
      "Page fetched successfully.\n",
      "JSON metadata extracted successfully.\n",
      "Page fetched successfully.\n"
     ]
    },
    {
     "name": "stderr",
     "output_type": "stream",
     "text": [
      " 84%|████████▍ | 166/197 [00:18<00:02, 10.65it/s]"
     ]
    },
    {
     "name": "stdout",
     "output_type": "stream",
     "text": [
      "JSON metadata extracted successfully.\n",
      "Page fetched successfully.\n",
      "JSON metadata extracted successfully.\n"
     ]
    },
    {
     "name": "stderr",
     "output_type": "stream",
     "text": [
      " 85%|████████▌ | 168/197 [00:18<00:03,  8.77it/s]"
     ]
    },
    {
     "name": "stdout",
     "output_type": "stream",
     "text": [
      "Page fetched successfully.\n",
      "JSON metadata extracted successfully.\n",
      "Page fetched successfully.\n",
      "JSON metadata extracted successfully.\n",
      "Page fetched successfully.\n",
      "JSON metadata extracted successfully.\n",
      "Page fetched successfully.\n"
     ]
    },
    {
     "name": "stderr",
     "output_type": "stream",
     "text": [
      " 87%|████████▋ | 172/197 [00:18<00:02, 10.98it/s]"
     ]
    },
    {
     "name": "stdout",
     "output_type": "stream",
     "text": [
      "JSON metadata extracted successfully.\n",
      "Page fetched successfully.\n",
      "JSON metadata extracted successfully.\n",
      "Page fetched successfully.\n",
      "JSON metadata extracted successfully.\n",
      "Page fetched successfully.\n"
     ]
    },
    {
     "name": "stderr",
     "output_type": "stream",
     "text": [
      " 88%|████████▊ | 174/197 [00:18<00:01, 11.51it/s]"
     ]
    },
    {
     "name": "stdout",
     "output_type": "stream",
     "text": [
      "JSON metadata extracted successfully.\n",
      "Page fetched successfully.\n",
      "JSON metadata extracted successfully.\n",
      "Page fetched successfully.\n",
      "JSON metadata extracted successfully.\n"
     ]
    },
    {
     "name": "stderr",
     "output_type": "stream",
     "text": [
      " 89%|████████▉ | 176/197 [00:18<00:01, 12.11it/s]"
     ]
    },
    {
     "name": "stdout",
     "output_type": "stream",
     "text": [
      "Page fetched successfully.\n",
      "JSON metadata extracted successfully.\n",
      "Page fetched successfully.\n",
      "JSON metadata extracted successfully.\n",
      "Page fetched successfully.\n",
      "JSON metadata extracted successfully.\n"
     ]
    },
    {
     "name": "stderr",
     "output_type": "stream",
     "text": [
      " 91%|█████████▏| 180/197 [00:19<00:01, 12.03it/s]"
     ]
    },
    {
     "name": "stdout",
     "output_type": "stream",
     "text": [
      "Page fetched successfully.\n",
      "JSON metadata extracted successfully.\n",
      "Page fetched successfully.\n",
      "JSON metadata extracted successfully.\n"
     ]
    },
    {
     "name": "stderr",
     "output_type": "stream",
     "text": [
      " 92%|█████████▏| 182/197 [00:19<00:01, 10.52it/s]"
     ]
    },
    {
     "name": "stdout",
     "output_type": "stream",
     "text": [
      "Page fetched successfully.\n",
      "JSON metadata extracted successfully.\n",
      "Page fetched successfully.\n",
      "JSON metadata extracted successfully.\n"
     ]
    },
    {
     "name": "stderr",
     "output_type": "stream",
     "text": [
      " 93%|█████████▎| 184/197 [00:19<00:01,  9.52it/s]"
     ]
    },
    {
     "name": "stdout",
     "output_type": "stream",
     "text": [
      "Page fetched successfully.\n",
      "JSON metadata extracted successfully.\n",
      "Page fetched successfully.\n",
      "JSON metadata extracted successfully.\n",
      "Page fetched successfully.\n",
      "JSON metadata extracted successfully.\n"
     ]
    },
    {
     "name": "stderr",
     "output_type": "stream",
     "text": [
      " 95%|█████████▌| 188/197 [00:20<00:00, 11.09it/s]"
     ]
    },
    {
     "name": "stdout",
     "output_type": "stream",
     "text": [
      "Page fetched successfully.\n",
      "JSON metadata extracted successfully.\n",
      "Page fetched successfully.\n",
      "JSON metadata extracted successfully.\n",
      "Page fetched successfully.\n",
      "JSON metadata extracted successfully.\n",
      "Page fetched successfully.\n"
     ]
    },
    {
     "name": "stderr",
     "output_type": "stream",
     "text": [
      " 96%|█████████▋| 190/197 [00:20<00:00, 11.85it/s]"
     ]
    },
    {
     "name": "stdout",
     "output_type": "stream",
     "text": [
      "JSON metadata extracted successfully.\n",
      "Page fetched successfully.\n",
      "JSON metadata extracted successfully.\n",
      "Page fetched successfully.\n",
      "JSON metadata extracted successfully.\n",
      "Page fetched successfully.\n"
     ]
    },
    {
     "name": "stderr",
     "output_type": "stream",
     "text": [
      " 98%|█████████▊| 194/197 [00:20<00:00, 12.10it/s]"
     ]
    },
    {
     "name": "stdout",
     "output_type": "stream",
     "text": [
      "JSON metadata extracted successfully.\n",
      "Page fetched successfully.\n",
      "JSON metadata extracted successfully.\n",
      "Page fetched successfully.\n",
      "JSON metadata extracted successfully.\n"
     ]
    },
    {
     "name": "stderr",
     "output_type": "stream",
     "text": [
      " 99%|█████████▉| 196/197 [00:20<00:00, 12.60it/s]"
     ]
    },
    {
     "name": "stdout",
     "output_type": "stream",
     "text": [
      "Page fetched successfully.\n",
      "JSON metadata extracted successfully.\n",
      "Page fetched successfully.\n",
      "JSON metadata extracted successfully.\n",
      "Page fetched successfully.\n",
      "JSON metadata extracted successfully.\n"
     ]
    },
    {
     "name": "stderr",
     "output_type": "stream",
     "text": [
      "100%|██████████| 197/197 [00:20<00:00,  9.43it/s]"
     ]
    },
    {
     "name": "stdout",
     "output_type": "stream",
     "text": [
      "Page fetched successfully.\n",
      "JSON metadata extracted successfully.\n"
     ]
    },
    {
     "name": "stderr",
     "output_type": "stream",
     "text": [
      "\n"
     ]
    }
   ],
   "source": [
    "from tqdm import tqdm\n",
    "\n",
    "# Add tqdm to pandas apply\n",
    "tqdm.pandas()\n",
    "\n",
    "# Apply the function to each row with a progress bar\n",
    "extracted_data = df.progress_apply(extract_webpage_info, axis=1, result_type='expand')\n",
    "\n",
    "# Merge the extracted data into the original DataFrame\n",
    "df = pd.concat([df, extracted_data], axis=1)"
   ]
  },
  {
   "cell_type": "code",
   "execution_count": 75,
   "metadata": {},
   "outputs": [
    {
     "name": "stdout",
     "output_type": "stream",
     "text": [
      "Page fetched successfully.\n",
      "JSON metadata extracted successfully.\n",
      "Author(s): ['Michael Race']\n",
      "Date Published: 2025-01-21T07:11:07.216Z\n",
      "Headline: Pay rises for private sector fuel UK wage growth \n",
      "Content: Wage growth continued to rise in the UK, driven by strong pay rises in the private sector, official figures show.\n",
      "Regular pay increased by 5.6% on average between September and November, according to the Office for National Statistics (ONS), compared with the same period the year before.\n",
      "However, private sector earnings growth was stronger at 6%, compared with a rise of 4.1% in the public sector.\n",
      "Despite a risk of higher wages pushing up inflation, the Bank of England is still expected to cut interest rates next month.\n",
      "Rates are currently at 4.75%, but traders have bet on a cut to 4.5% in February, after inflation, which measures the rate prices rise at over time, unexpectedly fell last month.\n",
      "Liz McKeown, director of economic statistics at the ONS, said pay growth had picked up for the second consecutive period, \"again driven by strong increases in the private sector\".\n",
      "After accounting for the impact of inflation, pay rose on average by 3.4% on the year, the highest rate of growth since 2021.\n",
      "Apple TV's hit dystopian workplace thriller finally returns after a three-year cliffhanger.\n",
      "Sales unexpectedly fell last month, due to a poor December for food sales in supermarkets.\n",
      "OnBuy founder Cas Patton says BCP Council does not do enough to support Bournemouth's tech industry.\n",
      "Hundreds of people have experienced technical difficulties during interviews for NICS jobs.\n",
      "The chancellor tells the BBC she has got \"what it takes\" following a bumpy week for the UK economy.\n",
      "Copyright 2025 BBC. All rights reserved.TheBBCisnot responsible for the content of external sites.Read about our approach to external linking.\n",
      "\n"
     ]
    }
   ],
   "source": [
    "url = df.at[0, 'url']\n",
    "\n",
    "extractor = WebPageExtractor(url)\n",
    "\n",
    "extractor.fetch_page()\n",
    "extractor.extract_json_metadata()\n",
    "\n",
    "print(\"Author(s):\", extractor.extract_author())\n",
    "print(\"Date Published:\", extractor.extract_date())\n",
    "print(\"Headline:\", extractor.extract_headline())\n",
    "print(\"Content:\", extractor.extract_content())"
   ]
  },
  {
   "cell_type": "code",
   "execution_count": 54,
   "metadata": {},
   "outputs": [
    {
     "name": "stdout",
     "output_type": "stream",
     "text": [
      "<class 'pandas.core.frame.DataFrame'>\n",
      "RangeIndex: 238 entries, 0 to 237\n",
      "Data columns (total 12 columns):\n",
      " #   Column          Non-Null Count  Dtype \n",
      "---  ------          --------------  ----- \n",
      " 0   title           238 non-null    object\n",
      " 1   description     238 non-null    object\n",
      " 2   url             238 non-null    object\n",
      " 3   source          238 non-null    object\n",
      " 4   Author          238 non-null    object\n",
      " 5   Date Published  238 non-null    object\n",
      " 6   Headline        238 non-null    object\n",
      " 7   Content         238 non-null    object\n",
      " 8   Author          238 non-null    object\n",
      " 9   Date Published  238 non-null    object\n",
      " 10  Headline        238 non-null    object\n",
      " 11  Content         238 non-null    object\n",
      "dtypes: object(12)\n",
      "memory usage: 22.4+ KB\n"
     ]
    }
   ],
   "source": [
    "df.info()"
   ]
  }
 ],
 "metadata": {
  "kernelspec": {
   "display_name": "Python 3",
   "language": "python",
   "name": "python3"
  },
  "language_info": {
   "codemirror_mode": {
    "name": "ipython",
    "version": 3
   },
   "file_extension": ".py",
   "mimetype": "text/x-python",
   "name": "python",
   "nbconvert_exporter": "python",
   "pygments_lexer": "ipython3",
   "version": "3.12.8"
  }
 },
 "nbformat": 4,
 "nbformat_minor": 2
}
